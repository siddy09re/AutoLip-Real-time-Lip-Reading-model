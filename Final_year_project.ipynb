{
  "cells": [
    {
      "cell_type": "markdown",
      "metadata": {
        "id": "view-in-github",
        "colab_type": "text"
      },
      "source": [
        "<a href=\"https://colab.research.google.com/github/siddy09re/AutoLip-Real-time-Lip-Reading-model/blob/main/Final_year_project.ipynb\" target=\"_parent\"><img src=\"https://colab.research.google.com/assets/colab-badge.svg\" alt=\"Open In Colab\"/></a>"
      ]
    },
    {
      "cell_type": "code",
      "execution_count": null,
      "metadata": {
        "colab": {
          "base_uri": "https://localhost:8080/"
        },
        "id": "CpVHt1cB-x2f",
        "outputId": "436858ec-caae-4e9f-9cc5-a9aba02a89b9"
      },
      "outputs": [
        {
          "output_type": "stream",
          "name": "stdout",
          "text": [
            "Package                            Version\n",
            "---------------------------------- -------------------\n",
            "absl-py                            1.4.0\n",
            "accelerate                         0.34.2\n",
            "aiohappyeyeballs                   2.4.3\n",
            "aiohttp                            3.10.10\n",
            "aiosignal                          1.3.1\n",
            "alabaster                          0.7.16\n",
            "albucore                           0.0.19\n",
            "albumentations                     1.4.20\n",
            "altair                             4.2.2\n",
            "annotated-types                    0.7.0\n",
            "anyio                              3.7.1\n",
            "argon2-cffi                        23.1.0\n",
            "argon2-cffi-bindings               21.2.0\n",
            "array_record                       0.5.1\n",
            "arviz                              0.20.0\n",
            "astropy                            6.1.4\n",
            "astropy-iers-data                  0.2024.10.28.0.34.7\n",
            "astunparse                         1.6.3\n",
            "async-timeout                      4.0.3\n",
            "atpublic                           4.1.0\n",
            "attrs                              24.2.0\n",
            "audioread                          3.0.1\n",
            "autograd                           1.7.0\n",
            "babel                              2.16.0\n",
            "backcall                           0.2.0\n",
            "beautifulsoup4                     4.12.3\n",
            "bigframes                          1.25.0\n",
            "bigquery-magics                    0.4.0\n",
            "bleach                             6.2.0\n",
            "blinker                            1.4\n",
            "blis                               0.7.11\n",
            "blosc2                             2.0.0\n",
            "bokeh                              3.4.3\n",
            "Bottleneck                         1.4.2\n",
            "bqplot                             0.12.43\n",
            "branca                             0.8.0\n",
            "CacheControl                       0.14.0\n",
            "cachetools                         5.5.0\n",
            "catalogue                          2.0.10\n",
            "certifi                            2024.8.30\n",
            "cffi                               1.17.1\n",
            "chardet                            5.2.0\n",
            "charset-normalizer                 3.4.0\n",
            "chex                               0.1.87\n",
            "clarabel                           0.9.0\n",
            "click                              8.1.7\n",
            "cloudpathlib                       0.20.0\n",
            "cloudpickle                        3.1.0\n",
            "cmake                              3.30.5\n",
            "cmdstanpy                          1.2.4\n",
            "colorcet                           3.1.0\n",
            "colorlover                         0.3.0\n",
            "colour                             0.1.5\n",
            "community                          1.0.0b1\n",
            "confection                         0.1.5\n",
            "cons                               0.4.6\n",
            "contourpy                          1.3.0\n",
            "cryptography                       43.0.3\n",
            "cuda-python                        12.2.1\n",
            "cudf-cu12                          24.10.1\n",
            "cufflinks                          0.17.3\n",
            "cupy-cuda12x                       12.2.0\n",
            "cvxopt                             1.3.2\n",
            "cvxpy                              1.5.3\n",
            "cycler                             0.12.1\n",
            "cymem                              2.0.8\n",
            "Cython                             3.0.11\n",
            "dask                               2024.10.0\n",
            "datascience                        0.17.6\n",
            "db-dtypes                          1.3.0\n",
            "dbus-python                        1.2.18\n",
            "debugpy                            1.6.6\n",
            "decorator                          4.4.2\n",
            "defusedxml                         0.7.1\n",
            "Deprecated                         1.2.14\n",
            "diffusers                          0.30.3\n",
            "distro                             1.9.0\n",
            "dlib                               19.24.2\n",
            "dm-tree                            0.1.8\n",
            "docker-pycreds                     0.4.0\n",
            "docstring_parser                   0.16\n",
            "docutils                           0.18.1\n",
            "dopamine_rl                        4.0.9\n",
            "duckdb                             1.1.2\n",
            "earthengine-api                    1.2.0\n",
            "easydict                           1.13\n",
            "ecos                               2.0.14\n",
            "editdistance                       0.8.1\n",
            "eerepr                             0.0.4\n",
            "einops                             0.8.0\n",
            "en-core-web-sm                     3.7.1\n",
            "entrypoints                        0.4\n",
            "et_xmlfile                         2.0.0\n",
            "etils                              1.10.0\n",
            "etuples                            0.3.9\n",
            "eval_type_backport                 0.2.0\n",
            "exceptiongroup                     1.2.2\n",
            "fastai                             2.7.18\n",
            "fastcore                           1.7.19\n",
            "fastdownload                       0.0.7\n",
            "fastjsonschema                     2.20.0\n",
            "fastprogress                       1.0.3\n",
            "fastrlock                          0.8.2\n",
            "filelock                           3.16.1\n",
            "firebase-admin                     6.5.0\n",
            "Flask                              2.2.5\n",
            "flatbuffers                        24.3.25\n",
            "flax                               0.8.5\n",
            "folium                             0.18.0\n",
            "fonttools                          4.54.1\n",
            "frozendict                         2.4.6\n",
            "frozenlist                         1.5.0\n",
            "fsspec                             2024.10.0\n",
            "future                             1.0.0\n",
            "gast                               0.6.0\n",
            "gcsfs                              2024.10.0\n",
            "GDAL                               3.6.4\n",
            "gdown                              5.2.0\n",
            "geemap                             0.35.0\n",
            "gensim                             4.3.3\n",
            "geocoder                           1.38.1\n",
            "geographiclib                      2.0\n",
            "geopandas                          1.0.1\n",
            "geopy                              2.4.1\n",
            "gin-config                         0.5.0\n",
            "gitdb                              4.0.11\n",
            "GitPython                          3.1.43\n",
            "glob2                              0.7\n",
            "google                             2.0.3\n",
            "google-ai-generativelanguage       0.6.10\n",
            "google-api-core                    2.19.2\n",
            "google-api-python-client           2.137.0\n",
            "google-auth                        2.27.0\n",
            "google-auth-httplib2               0.2.0\n",
            "google-auth-oauthlib               1.2.1\n",
            "google-cloud-aiplatform            1.70.0\n",
            "google-cloud-bigquery              3.25.0\n",
            "google-cloud-bigquery-connection   1.15.5\n",
            "google-cloud-bigquery-storage      2.27.0\n",
            "google-cloud-bigtable              2.26.0\n",
            "google-cloud-core                  2.4.1\n",
            "google-cloud-datastore             2.19.0\n",
            "google-cloud-firestore             2.16.1\n",
            "google-cloud-functions             1.16.5\n",
            "google-cloud-iam                   2.16.0\n",
            "google-cloud-language              2.13.4\n",
            "google-cloud-pubsub                2.25.0\n",
            "google-cloud-resource-manager      1.13.0\n",
            "google-cloud-storage               2.8.0\n",
            "google-cloud-translate             3.15.5\n",
            "google-colab                       1.0.0\n",
            "google-crc32c                      1.6.0\n",
            "google-generativeai                0.8.3\n",
            "google-pasta                       0.2.0\n",
            "google-resumable-media             2.7.2\n",
            "googleapis-common-protos           1.65.0\n",
            "googledrivedownloader              0.4\n",
            "graphviz                           0.20.3\n",
            "greenlet                           3.1.1\n",
            "grpc-google-iam-v1                 0.13.1\n",
            "grpcio                             1.64.1\n",
            "grpcio-status                      1.48.2\n",
            "gspread                            6.0.2\n",
            "gspread-dataframe                  3.3.1\n",
            "gym                                0.25.2\n",
            "gym-notices                        0.0.8\n",
            "h11                                0.14.0\n",
            "h5netcdf                           1.4.0\n",
            "h5py                               3.12.1\n",
            "holidays                           0.59\n",
            "holoviews                          1.19.1\n",
            "html5lib                           1.1\n",
            "httpcore                           1.0.6\n",
            "httpimport                         1.4.0\n",
            "httplib2                           0.22.0\n",
            "httpx                              0.27.2\n",
            "huggingface-hub                    0.24.7\n",
            "humanize                           4.11.0\n",
            "hyperopt                           0.2.7\n",
            "ibis-framework                     9.2.0\n",
            "idna                               3.10\n",
            "imageio                            2.36.0\n",
            "imageio-ffmpeg                     0.5.1\n",
            "imagesize                          1.4.1\n",
            "imbalanced-learn                   0.12.4\n",
            "imgaug                             0.4.0\n",
            "immutabledict                      4.2.0\n",
            "importlib_metadata                 8.5.0\n",
            "importlib_resources                6.4.5\n",
            "imutils                            0.5.4\n",
            "inflect                            7.4.0\n",
            "iniconfig                          2.0.0\n",
            "intel-cmplr-lib-ur                 2025.0.0\n",
            "intel-openmp                       2025.0.0\n",
            "ipyevents                          2.0.2\n",
            "ipyfilechooser                     0.6.0\n",
            "ipykernel                          5.5.6\n",
            "ipyleaflet                         0.19.2\n",
            "ipyparallel                        8.8.0\n",
            "ipython                            7.34.0\n",
            "ipython-genutils                   0.2.0\n",
            "ipython-sql                        0.5.0\n",
            "ipytree                            0.2.2\n",
            "ipywidgets                         7.7.1\n",
            "itsdangerous                       2.2.0\n",
            "jax                                0.4.33\n",
            "jax-cuda12-pjrt                    0.4.33\n",
            "jax-cuda12-plugin                  0.4.33\n",
            "jaxlib                             0.4.33\n",
            "jeepney                            0.7.1\n",
            "jellyfish                          1.1.0\n",
            "jieba                              0.42.1\n",
            "Jinja2                             3.1.4\n",
            "jiter                              0.6.1\n",
            "joblib                             1.4.2\n",
            "jsonpatch                          1.33\n",
            "jsonpickle                         3.3.0\n",
            "jsonpointer                        3.0.0\n",
            "jsonschema                         4.23.0\n",
            "jsonschema-specifications          2024.10.1\n",
            "jupyter-client                     6.1.12\n",
            "jupyter-console                    6.1.0\n",
            "jupyter_core                       5.7.2\n",
            "jupyter-leaflet                    0.19.2\n",
            "jupyter-server                     1.24.0\n",
            "jupyterlab_pygments                0.3.0\n",
            "jupyterlab_widgets                 3.0.13\n",
            "kaggle                             1.6.17\n",
            "kagglehub                          0.3.3\n",
            "keras                              3.4.1\n",
            "keyring                            23.5.0\n",
            "kiwisolver                         1.4.7\n",
            "langchain                          0.3.4\n",
            "langchain-core                     0.3.13\n",
            "langchain-text-splitters           0.3.0\n",
            "langcodes                          3.4.1\n",
            "langsmith                          0.1.137\n",
            "language_data                      1.2.0\n",
            "launchpadlib                       1.10.16\n",
            "lazr.restfulclient                 0.14.4\n",
            "lazr.uri                           1.0.6\n",
            "lazy_loader                        0.4\n",
            "libclang                           18.1.1\n",
            "libcudf-cu12                       24.10.1\n",
            "librosa                            0.10.2.post1\n",
            "lightgbm                           4.5.0\n",
            "linkify-it-py                      2.0.3\n",
            "llvmlite                           0.43.0\n",
            "locket                             1.0.0\n",
            "logical-unification                0.4.6\n",
            "lxml                               5.3.0\n",
            "marisa-trie                        1.2.1\n",
            "Markdown                           3.7\n",
            "markdown-it-py                     3.0.0\n",
            "MarkupSafe                         3.0.2\n",
            "matplotlib                         3.8.0\n",
            "matplotlib-inline                  0.1.7\n",
            "matplotlib-venn                    1.1.1\n",
            "mdit-py-plugins                    0.4.2\n",
            "mdurl                              0.1.2\n",
            "miniKanren                         1.0.3\n",
            "missingno                          0.5.2\n",
            "mistune                            3.0.2\n",
            "mizani                             0.13.0\n",
            "mkl                                2024.2.2\n",
            "ml-dtypes                          0.4.1\n",
            "mlxtend                            0.23.1\n",
            "more-itertools                     10.5.0\n",
            "moviepy                            1.0.3\n",
            "mpmath                             1.3.0\n",
            "msgpack                            1.1.0\n",
            "multidict                          6.1.0\n",
            "multipledispatch                   1.0.0\n",
            "multitasking                       0.0.11\n",
            "murmurhash                         1.0.10\n",
            "music21                            9.1.0\n",
            "namex                              0.0.8\n",
            "natsort                            8.4.0\n",
            "nbclassic                          1.1.0\n",
            "nbclient                           0.10.0\n",
            "nbconvert                          7.16.4\n",
            "nbformat                           5.10.4\n",
            "nest-asyncio                       1.6.0\n",
            "networkx                           3.4.2\n",
            "nibabel                            5.3.2\n",
            "nltk                               3.8.1\n",
            "notebook                           6.5.5\n",
            "notebook_shim                      0.2.4\n",
            "numba                              0.60.0\n",
            "numexpr                            2.10.1\n",
            "numpy                              1.26.4\n",
            "nvidia-cublas-cu12                 12.6.3.3\n",
            "nvidia-cuda-cupti-cu12             12.6.80\n",
            "nvidia-cuda-nvcc-cu12              12.6.77\n",
            "nvidia-cuda-runtime-cu12           12.6.77\n",
            "nvidia-cudnn-cu12                  9.5.1.17\n",
            "nvidia-cufft-cu12                  11.3.0.4\n",
            "nvidia-curand-cu12                 10.3.7.77\n",
            "nvidia-cusolver-cu12               11.7.1.2\n",
            "nvidia-cusparse-cu12               12.5.4.2\n",
            "nvidia-nccl-cu12                   2.23.4\n",
            "nvidia-nvjitlink-cu12              12.6.77\n",
            "nvtx                               0.2.10\n",
            "nx-cugraph-cu12                    24.10.0\n",
            "oauth2client                       4.1.3\n",
            "oauthlib                           3.2.2\n",
            "openai                             1.52.2\n",
            "opencv-contrib-python              4.10.0.84\n",
            "opencv-python                      4.10.0.84\n",
            "opencv-python-headless             4.10.0.84\n",
            "openpyxl                           3.1.5\n",
            "opentelemetry-api                  1.16.0\n",
            "opentelemetry-sdk                  1.16.0\n",
            "opentelemetry-semantic-conventions 0.37b0\n",
            "opt_einsum                         3.4.0\n",
            "optax                              0.2.3\n",
            "optree                             0.13.0\n",
            "orbax-checkpoint                   0.6.4\n",
            "orjson                             3.10.10\n",
            "osqp                               0.6.7.post3\n",
            "packaging                          24.1\n",
            "pandas                             2.2.2\n",
            "pandas-datareader                  0.10.0\n",
            "pandas-gbq                         0.24.0\n",
            "pandas-stubs                       2.2.2.240909\n",
            "pandocfilters                      1.5.1\n",
            "panel                              1.4.5\n",
            "param                              2.1.1\n",
            "parso                              0.8.4\n",
            "parsy                              2.1\n",
            "partd                              1.4.2\n",
            "pathlib                            1.0.1\n",
            "patsy                              0.5.6\n",
            "peewee                             3.17.7\n",
            "peft                               0.13.2\n",
            "pexpect                            4.9.0\n",
            "pickleshare                        0.7.5\n",
            "pillow                             10.4.0\n",
            "pip                                24.1.2\n",
            "platformdirs                       4.3.6\n",
            "plotly                             5.24.1\n",
            "plotnine                           0.14.0\n",
            "pluggy                             1.5.0\n",
            "polars                             1.9.0\n",
            "pooch                              1.8.2\n",
            "portpicker                         1.5.2\n",
            "preshed                            3.0.9\n",
            "prettytable                        3.11.0\n",
            "proglog                            0.1.10\n",
            "progressbar2                       4.5.0\n",
            "prometheus_client                  0.21.0\n",
            "promise                            2.3\n",
            "prompt_toolkit                     3.0.48\n",
            "propcache                          0.2.0\n",
            "prophet                            1.1.6\n",
            "proto-plus                         1.25.0\n",
            "protobuf                           3.20.3\n",
            "psutil                             5.9.5\n",
            "psycopg2                           2.9.10\n",
            "ptyprocess                         0.7.0\n",
            "py-cpuinfo                         9.0.0\n",
            "py4j                               0.10.9.7\n",
            "pyarrow                            17.0.0\n",
            "pyarrow-hotfix                     0.6\n",
            "pyasn1                             0.6.1\n",
            "pyasn1_modules                     0.4.1\n",
            "pycocotools                        2.0.8\n",
            "pycparser                          2.22\n",
            "pydantic                           2.9.2\n",
            "pydantic_core                      2.23.4\n",
            "pydata-google-auth                 1.8.2\n",
            "pydot                              3.0.2\n",
            "pydotplus                          2.0.2\n",
            "PyDrive                            1.3.1\n",
            "PyDrive2                           1.20.0\n",
            "pyerfa                             2.0.1.4\n",
            "pygame                             2.6.1\n",
            "pygit2                             1.16.0\n",
            "Pygments                           2.18.0\n",
            "PyGObject                          3.42.1\n",
            "PyJWT                              2.9.0\n",
            "pylibcudf-cu12                     24.10.1\n",
            "pylibcugraph-cu12                  24.10.0\n",
            "pylibraft-cu12                     24.10.0\n",
            "pymc                               5.17.0\n",
            "pymystem3                          0.2.0\n",
            "pynvjitlink-cu12                   0.4.0\n",
            "pyogrio                            0.10.0\n",
            "PyOpenGL                           3.1.7\n",
            "pyOpenSSL                          24.2.1\n",
            "pyparsing                          3.2.0\n",
            "pyperclip                          1.9.0\n",
            "pyproj                             3.7.0\n",
            "pyshp                              2.3.1\n",
            "PySocks                            1.7.1\n",
            "pyspark                            3.5.3\n",
            "pytensor                           2.25.5\n",
            "pytest                             7.4.4\n",
            "python-apt                         0.0.0\n",
            "python-box                         7.2.0\n",
            "python-dateutil                    2.8.2\n",
            "python-louvain                     0.16\n",
            "python-slugify                     8.0.4\n",
            "python-utils                       3.9.0\n",
            "pytz                               2024.2\n",
            "pyviz_comms                        3.0.3\n",
            "PyYAML                             6.0.2\n",
            "pyzmq                              24.0.1\n",
            "qdldl                              0.1.7.post4\n",
            "ratelim                            0.1.6\n",
            "referencing                        0.35.1\n",
            "regex                              2024.9.11\n",
            "requests                           2.32.3\n",
            "requests-oauthlib                  1.3.1\n",
            "requests-toolbelt                  1.0.0\n",
            "requirements-parser                0.9.0\n",
            "rich                               13.9.3\n",
            "rmm-cu12                           24.10.0\n",
            "rpds-py                            0.20.0\n",
            "rpy2                               3.4.2\n",
            "rsa                                4.9\n",
            "safetensors                        0.4.5\n",
            "scikit-image                       0.24.0\n",
            "scikit-learn                       1.5.2\n",
            "scipy                              1.13.1\n",
            "scooby                             0.10.0\n",
            "scs                                3.2.7\n",
            "seaborn                            0.13.2\n",
            "SecretStorage                      3.3.1\n",
            "Send2Trash                         1.8.3\n",
            "sentence-transformers              3.2.1\n",
            "sentencepiece                      0.2.0\n",
            "sentry-sdk                         2.17.0\n",
            "setproctitle                       1.3.3\n",
            "setuptools                         75.1.0\n",
            "shap                               0.46.0\n",
            "shapely                            2.0.6\n",
            "shellingham                        1.5.4\n",
            "simple-parsing                     0.1.6\n",
            "six                                1.16.0\n",
            "sklearn-pandas                     2.2.0\n",
            "slicer                             0.0.8\n",
            "smart-open                         7.0.5\n",
            "smmap                              5.0.1\n",
            "sniffio                            1.3.1\n",
            "snowballstemmer                    2.2.0\n",
            "soundfile                          0.12.1\n",
            "soupsieve                          2.6\n",
            "soxr                               0.5.0.post1\n",
            "spacy                              3.7.5\n",
            "spacy-legacy                       3.0.12\n",
            "spacy-loggers                      1.0.5\n",
            "Sphinx                             5.0.2\n",
            "sphinxcontrib-applehelp            2.0.0\n",
            "sphinxcontrib-devhelp              2.0.0\n",
            "sphinxcontrib-htmlhelp             2.1.0\n",
            "sphinxcontrib-jsmath               1.0.1\n",
            "sphinxcontrib-qthelp               2.0.0\n",
            "sphinxcontrib-serializinghtml      2.0.0\n",
            "SQLAlchemy                         2.0.36\n",
            "sqlglot                            25.1.0\n",
            "sqlparse                           0.5.1\n",
            "srsly                              2.4.8\n",
            "stanio                             0.5.1\n",
            "statsmodels                        0.14.4\n",
            "StrEnum                            0.4.15\n",
            "stringzilla                        3.10.6\n",
            "sympy                              1.13.1\n",
            "tables                             3.8.0\n",
            "tabulate                           0.9.0\n",
            "tbb                                2021.13.1\n",
            "tcmlib                             1.2.0\n",
            "tenacity                           9.0.0\n",
            "tensorboard                        2.17.0\n",
            "tensorboard-data-server            0.7.2\n",
            "tensorflow                         2.17.0\n",
            "tensorflow-datasets                4.9.6\n",
            "tensorflow-hub                     0.16.1\n",
            "tensorflow-io-gcs-filesystem       0.37.1\n",
            "tensorflow-metadata                1.16.1\n",
            "tensorflow-probability             0.24.0\n",
            "tensorstore                        0.1.67\n",
            "termcolor                          2.5.0\n",
            "terminado                          0.18.1\n",
            "text-unidecode                     1.3\n",
            "textblob                           0.17.1\n",
            "tf_keras                           2.17.0\n",
            "tf-slim                            1.1.0\n",
            "thinc                              8.2.5\n",
            "threadpoolctl                      3.5.0\n",
            "tifffile                           2024.9.20\n",
            "timm                               1.0.11\n",
            "tinycss2                           1.4.0\n",
            "tokenizers                         0.19.1\n",
            "toml                               0.10.2\n",
            "tomli                              2.0.2\n",
            "toolz                              0.12.1\n",
            "torch                              2.5.0+cu121\n",
            "torchaudio                         2.5.0+cu121\n",
            "torchsummary                       1.5.1\n",
            "torchvision                        0.20.0+cu121\n",
            "tornado                            6.3.3\n",
            "tqdm                               4.66.6\n",
            "traitlets                          5.7.1\n",
            "traittypes                         0.2.1\n",
            "transformers                       4.44.2\n",
            "tweepy                             4.14.0\n",
            "typeguard                          4.4.0\n",
            "typer                              0.12.5\n",
            "types-pytz                         2024.2.0.20241003\n",
            "types-setuptools                   75.3.0.20241107\n",
            "typing_extensions                  4.12.2\n",
            "tzdata                             2024.2\n",
            "tzlocal                            5.2\n",
            "uc-micro-py                        1.0.3\n",
            "umf                                0.9.0\n",
            "uritemplate                        4.1.1\n",
            "urllib3                            2.2.3\n",
            "vega-datasets                      0.9.0\n",
            "wadllib                            1.3.6\n",
            "wandb                              0.18.5\n",
            "wasabi                             1.1.3\n",
            "wcwidth                            0.2.13\n",
            "weasel                             0.4.1\n",
            "webcolors                          24.8.0\n",
            "webencodings                       0.5.1\n",
            "websocket-client                   1.8.0\n",
            "Werkzeug                           3.0.6\n",
            "wheel                              0.44.0\n",
            "widgetsnbextension                 3.6.10\n",
            "wordcloud                          1.9.3\n",
            "wrapt                              1.16.0\n",
            "xarray                             2024.10.0\n",
            "xarray-einstats                    0.8.0\n",
            "xgboost                            2.1.2\n",
            "xlrd                               2.0.1\n",
            "xyzservices                        2024.9.0\n",
            "yarl                               1.17.0\n",
            "yellowbrick                        1.5\n",
            "yfinance                           0.2.48\n",
            "zipp                               3.20.2\n"
          ]
        }
      ],
      "source": [
        "!pip list"
      ]
    },
    {
      "cell_type": "code",
      "execution_count": null,
      "metadata": {
        "colab": {
          "base_uri": "https://localhost:8080/"
        },
        "id": "hJwlj1PVmfJp",
        "outputId": "98cfe6db-6408-4e1c-eaf5-b9d7d762ea62"
      },
      "outputs": [
        {
          "output_type": "stream",
          "name": "stdout",
          "text": [
            "Requirement already satisfied: opencv-python in /usr/local/lib/python3.10/dist-packages (4.10.0.84)\n",
            "Requirement already satisfied: matplotlib in /usr/local/lib/python3.10/dist-packages (3.8.0)\n",
            "Requirement already satisfied: imageio in /usr/local/lib/python3.10/dist-packages (2.36.0)\n",
            "Requirement already satisfied: gdown in /usr/local/lib/python3.10/dist-packages (5.2.0)\n",
            "Requirement already satisfied: tensorflow in /usr/local/lib/python3.10/dist-packages (2.17.0)\n",
            "Requirement already satisfied: numpy>=1.21.2 in /usr/local/lib/python3.10/dist-packages (from opencv-python) (1.26.4)\n",
            "Requirement already satisfied: contourpy>=1.0.1 in /usr/local/lib/python3.10/dist-packages (from matplotlib) (1.3.0)\n",
            "Requirement already satisfied: cycler>=0.10 in /usr/local/lib/python3.10/dist-packages (from matplotlib) (0.12.1)\n",
            "Requirement already satisfied: fonttools>=4.22.0 in /usr/local/lib/python3.10/dist-packages (from matplotlib) (4.54.1)\n",
            "Requirement already satisfied: kiwisolver>=1.0.1 in /usr/local/lib/python3.10/dist-packages (from matplotlib) (1.4.7)\n",
            "Requirement already satisfied: packaging>=20.0 in /usr/local/lib/python3.10/dist-packages (from matplotlib) (24.1)\n",
            "Requirement already satisfied: pillow>=6.2.0 in /usr/local/lib/python3.10/dist-packages (from matplotlib) (10.4.0)\n",
            "Requirement already satisfied: pyparsing>=2.3.1 in /usr/local/lib/python3.10/dist-packages (from matplotlib) (3.2.0)\n",
            "Requirement already satisfied: python-dateutil>=2.7 in /usr/local/lib/python3.10/dist-packages (from matplotlib) (2.8.2)\n",
            "Requirement already satisfied: beautifulsoup4 in /usr/local/lib/python3.10/dist-packages (from gdown) (4.12.3)\n",
            "Requirement already satisfied: filelock in /usr/local/lib/python3.10/dist-packages (from gdown) (3.16.1)\n",
            "Requirement already satisfied: requests[socks] in /usr/local/lib/python3.10/dist-packages (from gdown) (2.32.3)\n",
            "Requirement already satisfied: tqdm in /usr/local/lib/python3.10/dist-packages (from gdown) (4.66.6)\n",
            "Requirement already satisfied: absl-py>=1.0.0 in /usr/local/lib/python3.10/dist-packages (from tensorflow) (1.4.0)\n",
            "Requirement already satisfied: astunparse>=1.6.0 in /usr/local/lib/python3.10/dist-packages (from tensorflow) (1.6.3)\n",
            "Requirement already satisfied: flatbuffers>=24.3.25 in /usr/local/lib/python3.10/dist-packages (from tensorflow) (24.3.25)\n",
            "Requirement already satisfied: gast!=0.5.0,!=0.5.1,!=0.5.2,>=0.2.1 in /usr/local/lib/python3.10/dist-packages (from tensorflow) (0.6.0)\n",
            "Requirement already satisfied: google-pasta>=0.1.1 in /usr/local/lib/python3.10/dist-packages (from tensorflow) (0.2.0)\n",
            "Requirement already satisfied: h5py>=3.10.0 in /usr/local/lib/python3.10/dist-packages (from tensorflow) (3.12.1)\n",
            "Requirement already satisfied: libclang>=13.0.0 in /usr/local/lib/python3.10/dist-packages (from tensorflow) (18.1.1)\n",
            "Requirement already satisfied: ml-dtypes<0.5.0,>=0.3.1 in /usr/local/lib/python3.10/dist-packages (from tensorflow) (0.4.1)\n",
            "Requirement already satisfied: opt-einsum>=2.3.2 in /usr/local/lib/python3.10/dist-packages (from tensorflow) (3.4.0)\n",
            "Requirement already satisfied: protobuf!=4.21.0,!=4.21.1,!=4.21.2,!=4.21.3,!=4.21.4,!=4.21.5,<5.0.0dev,>=3.20.3 in /usr/local/lib/python3.10/dist-packages (from tensorflow) (3.20.3)\n",
            "Requirement already satisfied: setuptools in /usr/local/lib/python3.10/dist-packages (from tensorflow) (75.1.0)\n",
            "Requirement already satisfied: six>=1.12.0 in /usr/local/lib/python3.10/dist-packages (from tensorflow) (1.16.0)\n",
            "Requirement already satisfied: termcolor>=1.1.0 in /usr/local/lib/python3.10/dist-packages (from tensorflow) (2.5.0)\n",
            "Requirement already satisfied: typing-extensions>=3.6.6 in /usr/local/lib/python3.10/dist-packages (from tensorflow) (4.12.2)\n",
            "Requirement already satisfied: wrapt>=1.11.0 in /usr/local/lib/python3.10/dist-packages (from tensorflow) (1.16.0)\n",
            "Requirement already satisfied: grpcio<2.0,>=1.24.3 in /usr/local/lib/python3.10/dist-packages (from tensorflow) (1.64.1)\n",
            "Requirement already satisfied: tensorboard<2.18,>=2.17 in /usr/local/lib/python3.10/dist-packages (from tensorflow) (2.17.0)\n",
            "Requirement already satisfied: keras>=3.2.0 in /usr/local/lib/python3.10/dist-packages (from tensorflow) (3.4.1)\n",
            "Requirement already satisfied: tensorflow-io-gcs-filesystem>=0.23.1 in /usr/local/lib/python3.10/dist-packages (from tensorflow) (0.37.1)\n",
            "Requirement already satisfied: wheel<1.0,>=0.23.0 in /usr/local/lib/python3.10/dist-packages (from astunparse>=1.6.0->tensorflow) (0.44.0)\n",
            "Requirement already satisfied: rich in /usr/local/lib/python3.10/dist-packages (from keras>=3.2.0->tensorflow) (13.9.3)\n",
            "Requirement already satisfied: namex in /usr/local/lib/python3.10/dist-packages (from keras>=3.2.0->tensorflow) (0.0.8)\n",
            "Requirement already satisfied: optree in /usr/local/lib/python3.10/dist-packages (from keras>=3.2.0->tensorflow) (0.13.0)\n",
            "Requirement already satisfied: charset-normalizer<4,>=2 in /usr/local/lib/python3.10/dist-packages (from requests[socks]->gdown) (3.4.0)\n",
            "Requirement already satisfied: idna<4,>=2.5 in /usr/local/lib/python3.10/dist-packages (from requests[socks]->gdown) (3.10)\n",
            "Requirement already satisfied: urllib3<3,>=1.21.1 in /usr/local/lib/python3.10/dist-packages (from requests[socks]->gdown) (2.2.3)\n",
            "Requirement already satisfied: certifi>=2017.4.17 in /usr/local/lib/python3.10/dist-packages (from requests[socks]->gdown) (2024.8.30)\n",
            "Requirement already satisfied: markdown>=2.6.8 in /usr/local/lib/python3.10/dist-packages (from tensorboard<2.18,>=2.17->tensorflow) (3.7)\n",
            "Requirement already satisfied: tensorboard-data-server<0.8.0,>=0.7.0 in /usr/local/lib/python3.10/dist-packages (from tensorboard<2.18,>=2.17->tensorflow) (0.7.2)\n",
            "Requirement already satisfied: werkzeug>=1.0.1 in /usr/local/lib/python3.10/dist-packages (from tensorboard<2.18,>=2.17->tensorflow) (3.0.6)\n",
            "Requirement already satisfied: soupsieve>1.2 in /usr/local/lib/python3.10/dist-packages (from beautifulsoup4->gdown) (2.6)\n",
            "Requirement already satisfied: PySocks!=1.5.7,>=1.5.6 in /usr/local/lib/python3.10/dist-packages (from requests[socks]->gdown) (1.7.1)\n",
            "Requirement already satisfied: MarkupSafe>=2.1.1 in /usr/local/lib/python3.10/dist-packages (from werkzeug>=1.0.1->tensorboard<2.18,>=2.17->tensorflow) (3.0.2)\n",
            "Requirement already satisfied: markdown-it-py>=2.2.0 in /usr/local/lib/python3.10/dist-packages (from rich->keras>=3.2.0->tensorflow) (3.0.0)\n",
            "Requirement already satisfied: pygments<3.0.0,>=2.13.0 in /usr/local/lib/python3.10/dist-packages (from rich->keras>=3.2.0->tensorflow) (2.18.0)\n",
            "Requirement already satisfied: mdurl~=0.1 in /usr/local/lib/python3.10/dist-packages (from markdown-it-py>=2.2.0->rich->keras>=3.2.0->tensorflow) (0.1.2)\n"
          ]
        }
      ],
      "source": [
        "\n",
        "!pip install opencv-python matplotlib imageio gdown tensorflow"
      ]
    },
    {
      "cell_type": "code",
      "execution_count": null,
      "metadata": {
        "colab": {
          "base_uri": "https://localhost:8080/"
        },
        "id": "ik4DnnOyUvMw",
        "outputId": "eb924e01-0186-4d2c-e8f4-231bede6fbbc"
      },
      "outputs": [
        {
          "output_type": "stream",
          "name": "stdout",
          "text": [
            "Collecting jiwer\n",
            "  Downloading jiwer-3.0.5-py3-none-any.whl.metadata (2.7 kB)\n",
            "Requirement already satisfied: editdistance in /usr/local/lib/python3.10/dist-packages (0.8.1)\n",
            "Requirement already satisfied: click<9.0.0,>=8.1.3 in /usr/local/lib/python3.10/dist-packages (from jiwer) (8.1.7)\n",
            "Collecting rapidfuzz<4,>=3 (from jiwer)\n",
            "  Downloading rapidfuzz-3.10.1-cp310-cp310-manylinux_2_17_x86_64.manylinux2014_x86_64.whl.metadata (11 kB)\n",
            "Downloading jiwer-3.0.5-py3-none-any.whl (21 kB)\n",
            "Downloading rapidfuzz-3.10.1-cp310-cp310-manylinux_2_17_x86_64.manylinux2014_x86_64.whl (3.1 MB)\n",
            "\u001b[2K   \u001b[90m━━━━━━━━━━━━━━━━━━━━━━━━━━━━━━━━━━━━━━━━\u001b[0m \u001b[32m3.1/3.1 MB\u001b[0m \u001b[31m27.1 MB/s\u001b[0m eta \u001b[36m0:00:00\u001b[0m\n",
            "\u001b[?25hInstalling collected packages: rapidfuzz, jiwer\n",
            "Successfully installed jiwer-3.0.5 rapidfuzz-3.10.1\n"
          ]
        }
      ],
      "source": [
        "!pip install jiwer editdistance\n"
      ]
    },
    {
      "cell_type": "code",
      "execution_count": null,
      "metadata": {
        "id": "5HLCBTO8mnsC"
      },
      "outputs": [],
      "source": [
        "import os\n",
        "import cv2\n",
        "import tensorflow as tf\n",
        "import numpy as np\n",
        "from typing import List\n",
        "from matplotlib import pyplot as plt"
      ]
    },
    {
      "cell_type": "code",
      "execution_count": null,
      "metadata": {
        "id": "8uhHiV9SmtkC"
      },
      "outputs": [],
      "source": [
        "tf.config.list_physical_devices('GPU')\n",
        "physical_devices = tf.config.list_physical_devices('GPU')\n",
        "try:\n",
        "    tf.config.experimental.set_memory_growth(physical_devices[0], True)\n",
        "except:\n",
        "    pass"
      ]
    },
    {
      "cell_type": "code",
      "execution_count": null,
      "metadata": {
        "colab": {
          "base_uri": "https://localhost:8080/"
        },
        "id": "3vDwtx7emwf7",
        "outputId": "cda994b1-db0c-4946-c72c-025530872ac2"
      },
      "outputs": [
        {
          "output_type": "stream",
          "name": "stderr",
          "text": [
            "Downloading...\n",
            "From (original): https://drive.google.com/uc?id=1dAK_OW6F8et5oXSbzSUChJ10iCDWHNrL\n",
            "From (redirected): https://drive.google.com/uc?id=1dAK_OW6F8et5oXSbzSUChJ10iCDWHNrL&confirm=t&uuid=37c22c71-ec47-482b-9ccd-c32035e6f474\n",
            "To: /content/data.zip\n",
            "100%|██████████| 246M/246M [00:04<00:00, 56.7MB/s]\n"
          ]
        },
        {
          "output_type": "execute_result",
          "data": {
            "text/plain": [
              "['data3/',\n",
              " 'data3/alignment/',\n",
              " 'data3/alignment/s1/',\n",
              " 'data3/alignment/s1/bbab8n.align',\n",
              " 'data3/alignment/s1/bbab9s.align',\n",
              " 'data3/alignment/s1/bbac1a.align',\n",
              " 'data3/alignment/s1/bbaczp.align',\n",
              " 'data3/alignment/s1/bbad8n.align',\n",
              " 'data3/alignment/s1/bbad9n.align',\n",
              " 'data3/alignment/s1/bbad9s.align',\n",
              " 'data3/alignment/s1/bbae1a.align',\n",
              " 'data3/alignment/s1/bbae1n.align',\n",
              " 'data3/alignment/s1/bbae1p.align',\n",
              " 'data3/alignment/s1/bbae1s.align',\n",
              " 'data3/alignment/s1/bbae2a.align',\n",
              " 'data3/alignment/s1/bbae2n.align',\n",
              " 'data3/alignment/s1/bbae2p.align',\n",
              " 'data3/alignment/s1/bbae2s.align',\n",
              " 'data3/alignment/s1/bbae3a.align',\n",
              " 'data3/alignment/s1/bbae3p.align',\n",
              " 'data3/alignment/s1/bbae3s.align',\n",
              " 'data3/alignment/s1/bbae4a.align',\n",
              " 'data3/alignment/s1/bbae4n.align',\n",
              " 'data3/alignment/s1/bbae4p.align',\n",
              " 'data3/alignment/s1/bbae5a.align',\n",
              " 'data3/alignment/s1/bbae5n.align',\n",
              " 'data3/alignment/s1/bbae5s.align',\n",
              " 'data3/alignment/s1/bbae6n.align',\n",
              " 'data3/alignment/s1/bbae6p.align',\n",
              " 'data3/alignment/s1/bbae6s.align',\n",
              " 'data3/alignment/s1/bbae7a.align',\n",
              " 'data3/alignment/s1/bbae7n.align',\n",
              " 'data3/alignment/s1/bbae7p.align',\n",
              " 'data3/alignment/s1/bbae7s.align',\n",
              " 'data3/alignment/s1/bbae8a.align',\n",
              " 'data3/alignment/s1/bbae8n.align',\n",
              " 'data3/alignment/s1/bbae8p.align',\n",
              " 'data3/alignment/s1/bbae8s.align',\n",
              " 'data3/alignment/s1/bbae9a.align',\n",
              " 'data3/alignment/s1/bbae9n.align',\n",
              " 'data3/alignment/s1/bbae9p.align',\n",
              " 'data3/alignment/s1/bbae9s.align',\n",
              " 'data3/alignment/s1/bbaezn.align',\n",
              " 'data3/alignment/s1/bbaezp.align',\n",
              " 'data3/alignment/s1/bbaezs.align',\n",
              " 'data3/alignment/s1/bbaf1a.align',\n",
              " 'data3/alignment/s1/bbaf1n.align',\n",
              " 'data3/alignment/s1/bbaf1p.align',\n",
              " 'data3/alignment/s1/bbaf1s.align',\n",
              " 'data3/alignment/s1/bbaf2n.align',\n",
              " 'data3/alignment/s1/bbaf2p.align',\n",
              " 'data3/alignment/s1/bbaf2s.align',\n",
              " 'data3/alignment/s1/bbaf3a.align',\n",
              " 'data3/alignment/s1/bbaf3p.align',\n",
              " 'data3/alignment/s1/bbaf3s.align',\n",
              " 'data3/alignment/s1/bbaf4a.align',\n",
              " 'data3/alignment/s1/bbaf4p.align',\n",
              " 'data3/alignment/s1/bbaf5a.align',\n",
              " 'data3/alignment/s1/bbafza.align',\n",
              " 'data3/alignment/s1/bbafzn.align',\n",
              " 'data3/alignment/s1/bbafzp.align',\n",
              " 'data3/alignment/s1/bbafzs.align',\n",
              " 'data3/alignment/s1/bbai2n.align',\n",
              " 'data3/alignment/s1/bbai3s.align',\n",
              " 'data3/alignment/s1/bbai4p.align',\n",
              " 'data3/alignment/s1/bbai5a.align',\n",
              " 'data3/alignment/s1/bbak2n.align',\n",
              " 'data3/alignment/s1/bbak3n.align',\n",
              " 'data3/alignment/s1/bbak3s.align',\n",
              " 'data3/alignment/s1/bbak4n.align',\n",
              " 'data3/alignment/s1/bbak4p.align',\n",
              " 'data3/alignment/s1/bbak4s.align',\n",
              " 'data3/alignment/s1/bbak5a.align',\n",
              " 'data3/alignment/s1/bbak5n.align',\n",
              " 'data3/alignment/s1/bbak5p.align',\n",
              " 'data3/alignment/s1/bbak5s.align',\n",
              " 'data3/alignment/s1/bbak6a.align',\n",
              " 'data3/alignment/s1/bbak6n.align',\n",
              " 'data3/alignment/s1/bbak6p.align',\n",
              " 'data3/alignment/s1/bbak6s.align',\n",
              " 'data3/alignment/s1/bbak7a.align',\n",
              " 'data3/alignment/s1/bbak7p.align',\n",
              " 'data3/alignment/s1/bbak7s.align',\n",
              " 'data3/alignment/s1/bbak8a.align',\n",
              " 'data3/alignment/s1/bbak8n.align',\n",
              " 'data3/alignment/s1/bbak8p.align',\n",
              " 'data3/alignment/s1/bbak9a.align',\n",
              " 'data3/alignment/s1/bbak9n.align',\n",
              " 'data3/alignment/s1/bbak9s.align',\n",
              " 'data3/alignment/s1/bbal1a.align',\n",
              " 'data3/alignment/s1/bbal1n.align',\n",
              " 'data3/alignment/s1/bbal1p.align',\n",
              " 'data3/alignment/s1/bbal1s.align',\n",
              " 'data3/alignment/s1/bbal2a.align',\n",
              " 'data3/alignment/s1/bbal2n.align',\n",
              " 'data3/alignment/s1/bbal2p.align',\n",
              " 'data3/alignment/s1/bbal2s.align',\n",
              " 'data3/alignment/s1/bbal3a.align',\n",
              " 'data3/alignment/s1/bbal3n.align',\n",
              " 'data3/alignment/s1/bbal3p.align',\n",
              " 'data3/alignment/s1/bbal3s.align',\n",
              " 'data3/alignment/s1/bbal4a.align',\n",
              " 'data3/alignment/s1/bbal4n.align',\n",
              " 'data3/alignment/s1/bbal4p.align',\n",
              " 'data3/alignment/s1/bbal4s.align',\n",
              " 'data3/alignment/s1/bbal5a.align',\n",
              " 'data3/alignment/s1/bbal5n.align',\n",
              " 'data3/alignment/s1/bbal5p.align',\n",
              " 'data3/alignment/s1/bbal5s.align',\n",
              " 'data3/alignment/s1/bbal6a.align',\n",
              " 'data3/alignment/s1/bbal6n.align',\n",
              " 'data3/alignment/s1/bbal6p.align',\n",
              " 'data3/alignment/s1/bbal6s.align',\n",
              " 'data3/alignment/s1/bbal7a.align',\n",
              " 'data3/alignment/s1/bbal7p.align',\n",
              " 'data3/alignment/s1/bbal7s.align',\n",
              " 'data3/alignment/s1/bbal8a.align',\n",
              " 'data3/alignment/s1/bbal8p.align',\n",
              " 'data3/alignment/s1/bbal9a.align',\n",
              " 'data3/alignment/s1/bbalzn.align',\n",
              " 'data3/alignment/s1/bbalzp.align',\n",
              " 'data3/alignment/s1/bbalzs.align',\n",
              " 'data3/alignment/s1/bbao6n.align',\n",
              " 'data3/alignment/s1/bbao7s.align',\n",
              " 'data3/alignment/s1/bbao8p.align',\n",
              " 'data3/alignment/s1/bbao9a.align',\n",
              " 'data3/alignment/s1/bbaq6n.align',\n",
              " 'data3/alignment/s1/bbaq7n.align',\n",
              " 'data3/alignment/s1/bbaq7s.align',\n",
              " 'data3/alignment/s1/bbaq8n.align',\n",
              " 'data3/alignment/s1/bbaq8p.align',\n",
              " 'data3/alignment/s1/bbaq8s.align',\n",
              " 'data3/alignment/s1/bbaq9a.align',\n",
              " 'data3/alignment/s1/bbaq9n.align',\n",
              " 'data3/alignment/s1/bbaq9p.align',\n",
              " 'data3/alignment/s1/bbaq9s.align',\n",
              " 'data3/alignment/s1/bbar1a.align',\n",
              " 'data3/alignment/s1/bbar1p.align',\n",
              " 'data3/alignment/s1/bbar1s.align',\n",
              " 'data3/alignment/s1/bbar2a.align',\n",
              " 'data3/alignment/s1/bbar2n.align',\n",
              " 'data3/alignment/s1/bbar2p.align',\n",
              " 'data3/alignment/s1/bbar3a.align',\n",
              " 'data3/alignment/s1/bbar3n.align',\n",
              " 'data3/alignment/s1/bbar3s.align',\n",
              " 'data3/alignment/s1/bbar4n.align',\n",
              " 'data3/alignment/s1/bbar4p.align',\n",
              " 'data3/alignment/s1/bbar4s.align',\n",
              " 'data3/alignment/s1/bbar5a.align',\n",
              " 'data3/alignment/s1/bbar5n.align',\n",
              " 'data3/alignment/s1/bbar5p.align',\n",
              " 'data3/alignment/s1/bbar5s.align',\n",
              " 'data3/alignment/s1/bbar6n.align',\n",
              " 'data3/alignment/s1/bbar6p.align',\n",
              " 'data3/alignment/s1/bbar6s.align',\n",
              " 'data3/alignment/s1/bbar7a.align',\n",
              " 'data3/alignment/s1/bbar7n.align',\n",
              " 'data3/alignment/s1/bbar7p.align',\n",
              " 'data3/alignment/s1/bbar7s.align',\n",
              " 'data3/alignment/s1/bbar8a.align',\n",
              " 'data3/alignment/s1/bbar8n.align',\n",
              " 'data3/alignment/s1/bbar8p.align',\n",
              " 'data3/alignment/s1/bbar8s.align',\n",
              " 'data3/alignment/s1/bbar9a.align',\n",
              " 'data3/alignment/s1/bbar9n.align',\n",
              " 'data3/alignment/s1/bbar9p.align',\n",
              " 'data3/alignment/s1/bbar9s.align',\n",
              " 'data3/alignment/s1/bbarza.align',\n",
              " 'data3/alignment/s1/bbarzn.align',\n",
              " 'data3/alignment/s1/bbarzp.align',\n",
              " 'data3/alignment/s1/bbarzs.align',\n",
              " 'data3/alignment/s1/bbas1a.align',\n",
              " 'data3/alignment/s1/bbas1p.align',\n",
              " 'data3/alignment/s1/bbas1s.align',\n",
              " 'data3/alignment/s1/bbas2a.align',\n",
              " 'data3/alignment/s1/bbas2p.align',\n",
              " 'data3/alignment/s1/bbas3a.align',\n",
              " 'data3/alignment/s1/bbasza.align',\n",
              " 'data3/alignment/s1/bbaszn.align',\n",
              " 'data3/alignment/s1/bbaszp.align',\n",
              " 'data3/alignment/s1/bbaszs.align',\n",
              " 'data3/alignment/s1/bbav1s.align',\n",
              " 'data3/alignment/s1/bbav2p.align',\n",
              " 'data3/alignment/s1/bbav3a.align',\n",
              " 'data3/alignment/s1/bbavzn.align',\n",
              " 'data3/alignment/s1/bbay1n.align',\n",
              " 'data3/alignment/s1/bbay1s.align',\n",
              " 'data3/alignment/s1/bbay2n.align',\n",
              " 'data3/alignment/s1/bbay2p.align',\n",
              " 'data3/alignment/s1/bbay2s.align',\n",
              " 'data3/alignment/s1/bbay3a.align',\n",
              " 'data3/alignment/s1/bbay3n.align',\n",
              " 'data3/alignment/s1/bbay3p.align',\n",
              " 'data3/alignment/s1/bbay3s.align',\n",
              " 'data3/alignment/s1/bbay4a.align',\n",
              " 'data3/alignment/s1/bbay4n.align',\n",
              " 'data3/alignment/s1/bbay4p.align',\n",
              " 'data3/alignment/s1/bbay4s.align',\n",
              " 'data3/alignment/s1/bbay5a.align',\n",
              " 'data3/alignment/s1/bbay5p.align',\n",
              " 'data3/alignment/s1/bbay5s.align',\n",
              " 'data3/alignment/s1/bbay6a.align',\n",
              " 'data3/alignment/s1/bbay6n.align',\n",
              " 'data3/alignment/s1/bbay6p.align',\n",
              " 'data3/alignment/s1/bbay7a.align',\n",
              " 'data3/alignment/s1/bbay7n.align',\n",
              " 'data3/alignment/s1/bbay7s.align',\n",
              " 'data3/alignment/s1/bbay8n.align',\n",
              " 'data3/alignment/s1/bbay8p.align',\n",
              " 'data3/alignment/s1/bbay8s.align',\n",
              " 'data3/alignment/s1/bbay9a.align',\n",
              " 'data3/alignment/s1/bbay9n.align',\n",
              " 'data3/alignment/s1/bbay9s.align',\n",
              " 'data3/alignment/s1/bbayzn.align',\n",
              " 'data3/alignment/s1/bbaz1a.align',\n",
              " 'data3/alignment/s1/bbaz1n.align',\n",
              " 'data3/alignment/s1/bbaz1p.align',\n",
              " 'data3/alignment/s1/bbaz1s.align',\n",
              " 'data3/alignment/s1/bbaz2a.align',\n",
              " 'data3/alignment/s1/bbaz2n.align',\n",
              " 'data3/alignment/s1/bbaz2p.align',\n",
              " 'data3/alignment/s1/bbaz2s.align',\n",
              " 'data3/alignment/s1/bbaz3a.align',\n",
              " 'data3/alignment/s1/bbaz3n.align',\n",
              " 'data3/alignment/s1/bbaz3p.align',\n",
              " 'data3/alignment/s1/bbaz3s.align',\n",
              " 'data3/alignment/s1/bbaz4a.align',\n",
              " 'data3/alignment/s1/bbaz4n.align',\n",
              " 'data3/alignment/s1/bbaz4p.align',\n",
              " 'data3/alignment/s1/bbaz4s.align',\n",
              " 'data3/alignment/s1/bbaz5a.align',\n",
              " 'data3/alignment/s1/bbaz5p.align',\n",
              " 'data3/alignment/s1/bbaz5s.align',\n",
              " 'data3/alignment/s1/bbaz6a.align',\n",
              " 'data3/alignment/s1/bbaz6p.align',\n",
              " 'data3/alignment/s1/bbaz7a.align',\n",
              " 'data3/alignment/s1/bbazza.align',\n",
              " 'data3/alignment/s1/bbazzn.align',\n",
              " 'data3/alignment/s1/bbazzp.align',\n",
              " 'data3/alignment/s1/bbazzs.align',\n",
              " 'data3/alignment/s1/bbbc2n.align',\n",
              " 'data3/alignment/s1/bbbc3s.align',\n",
              " 'data3/alignment/s1/bbbc4p.align',\n",
              " 'data3/alignment/s1/bbbc5a.align',\n",
              " 'data3/alignment/s1/bbbe2n.align',\n",
              " 'data3/alignment/s1/bbbe3n.align',\n",
              " 'data3/alignment/s1/bbbe3s.align',\n",
              " 'data3/alignment/s1/bbbe4n.align',\n",
              " 'data3/alignment/s1/bbbe4p.align',\n",
              " 'data3/alignment/s1/bbbe4s.align',\n",
              " 'data3/alignment/s1/bbbe5a.align',\n",
              " 'data3/alignment/s1/bbbe5n.align',\n",
              " 'data3/alignment/s1/bbbe5p.align',\n",
              " 'data3/alignment/s1/bbbe5s.align',\n",
              " 'data3/alignment/s1/bbbe6a.align',\n",
              " 'data3/alignment/s1/bbbe6n.align',\n",
              " 'data3/alignment/s1/bbbe6p.align',\n",
              " 'data3/alignment/s1/bbbe6s.align',\n",
              " 'data3/alignment/s1/bbbe7a.align',\n",
              " 'data3/alignment/s1/bbbe7p.align',\n",
              " 'data3/alignment/s1/bbbe7s.align',\n",
              " 'data3/alignment/s1/bbbe8a.align',\n",
              " 'data3/alignment/s1/bbbe8n.align',\n",
              " 'data3/alignment/s1/bbbe8p.align',\n",
              " 'data3/alignment/s1/bbbe9a.align',\n",
              " 'data3/alignment/s1/bbbe9n.align',\n",
              " 'data3/alignment/s1/bbbe9s.align',\n",
              " 'data3/alignment/s1/bbbf1a.align',\n",
              " 'data3/alignment/s1/bbbf1n.align',\n",
              " 'data3/alignment/s1/bbbf1p.align',\n",
              " 'data3/alignment/s1/bbbf1s.align',\n",
              " 'data3/alignment/s1/bbbf2a.align',\n",
              " 'data3/alignment/s1/bbbf2n.align',\n",
              " 'data3/alignment/s1/bbbf2p.align',\n",
              " 'data3/alignment/s1/bbbf2s.align',\n",
              " 'data3/alignment/s1/bbbf3a.align',\n",
              " 'data3/alignment/s1/bbbf3n.align',\n",
              " 'data3/alignment/s1/bbbf3p.align',\n",
              " 'data3/alignment/s1/bbbf3s.align',\n",
              " 'data3/alignment/s1/bbbf4a.align',\n",
              " 'data3/alignment/s1/bbbf4n.align',\n",
              " 'data3/alignment/s1/bbbf4p.align',\n",
              " 'data3/alignment/s1/bbbf4s.align',\n",
              " 'data3/alignment/s1/bbbf5a.align',\n",
              " 'data3/alignment/s1/bbbf5n.align',\n",
              " 'data3/alignment/s1/bbbf5p.align',\n",
              " 'data3/alignment/s1/bbbf5s.align',\n",
              " 'data3/alignment/s1/bbbf6a.align',\n",
              " 'data3/alignment/s1/bbbf6n.align',\n",
              " 'data3/alignment/s1/bbbf6p.align',\n",
              " 'data3/alignment/s1/bbbf6s.align',\n",
              " 'data3/alignment/s1/bbbf7a.align',\n",
              " 'data3/alignment/s1/bbbf7p.align',\n",
              " 'data3/alignment/s1/bbbf7s.align',\n",
              " 'data3/alignment/s1/bbbf8a.align',\n",
              " 'data3/alignment/s1/bbbf8p.align',\n",
              " 'data3/alignment/s1/bbbf9a.align',\n",
              " 'data3/alignment/s1/bbbfzn.align',\n",
              " 'data3/alignment/s1/bbbfzp.align',\n",
              " 'data3/alignment/s1/bbbfzs.align',\n",
              " 'data3/alignment/s1/bbbl7n.align',\n",
              " 'data3/alignment/s1/bbwf3n.align',\n",
              " 'data3/alignment/s1/bbwz5n.align',\n",
              " 'data3/alignment/s1/lbit4n.align',\n",
              " 'data3/alignment/s1/lbit5n.align',\n",
              " 'data3/alignment/s1/lbit5s.align',\n",
              " 'data3/alignment/s1/lbit6n.align',\n",
              " 'data3/alignment/s1/lbit6p.align',\n",
              " 'data3/alignment/s1/lbit6s.align',\n",
              " 'data3/alignment/s1/lbit7a.align',\n",
              " 'data3/alignment/s1/lbit7n.align',\n",
              " 'data3/alignment/s1/lbit7p.align',\n",
              " 'data3/alignment/s1/lbit7s.align',\n",
              " 'data3/alignment/s1/lbit8a.align',\n",
              " 'data3/alignment/s1/lbit8n.align',\n",
              " 'data3/alignment/s1/lbit8p.align',\n",
              " 'data3/alignment/s1/lbit8s.align',\n",
              " 'data3/alignment/s1/lbit9a.align',\n",
              " 'data3/alignment/s1/lbit9n.align',\n",
              " 'data3/alignment/s1/lbit9p.align',\n",
              " 'data3/alignment/s1/lbit9s.align',\n",
              " 'data3/alignment/s1/lbiu1a.align',\n",
              " 'data3/alignment/s1/lbiu1n.align',\n",
              " 'data3/alignment/s1/lbiu1p.align',\n",
              " 'data3/alignment/s1/lbiu1s.align',\n",
              " 'data3/alignment/s1/lbiu2a.align',\n",
              " 'data3/alignment/s1/lbiu2n.align',\n",
              " 'data3/alignment/s1/lbiu2p.align',\n",
              " 'data3/alignment/s1/lbiu2s.align',\n",
              " 'data3/alignment/s1/lbiu3a.align',\n",
              " 'data3/alignment/s1/lbiu3n.align',\n",
              " 'data3/alignment/s1/lbiu3p.align',\n",
              " 'data3/alignment/s1/lbiu3s.align',\n",
              " 'data3/alignment/s1/lbiu4a.align',\n",
              " 'data3/alignment/s1/lbiu4p.align',\n",
              " 'data3/alignment/s1/lbiu4s.align',\n",
              " 'data3/alignment/s1/lbiu5a.align',\n",
              " 'data3/alignment/s1/lbiu5n.align',\n",
              " 'data3/alignment/s1/lbiu5p.align',\n",
              " 'data3/alignment/s1/lbiu6a.align',\n",
              " 'data3/alignment/s1/lbiu6n.align',\n",
              " 'data3/alignment/s1/lbiu6s.align',\n",
              " 'data3/alignment/s1/lbiu7n.align',\n",
              " 'data3/alignment/s1/lbiu7p.align',\n",
              " 'data3/alignment/s1/lbiu7s.align',\n",
              " 'data3/alignment/s1/lbiu8a.align',\n",
              " 'data3/alignment/s1/lbiu8n.align',\n",
              " 'data3/alignment/s1/lbiu8p.align',\n",
              " 'data3/alignment/s1/lbiu8s.align',\n",
              " 'data3/alignment/s1/lbiu9a.align',\n",
              " 'data3/alignment/s1/lbiu9n.align',\n",
              " 'data3/alignment/s1/lbiu9p.align',\n",
              " 'data3/alignment/s1/lbiu9s.align',\n",
              " 'data3/alignment/s1/lbiuza.align',\n",
              " 'data3/alignment/s1/lbiuzn.align',\n",
              " 'data3/alignment/s1/lbiuzp.align',\n",
              " 'data3/alignment/s1/lbiuzs.align',\n",
              " 'data3/alignment/s1/lbiv1a.align',\n",
              " 'data3/alignment/s1/lbiv1p.align',\n",
              " 'data3/alignment/s1/lbiv2a.align',\n",
              " 'data3/alignment/s1/lbivza.align',\n",
              " 'data3/alignment/s1/lbivzp.align',\n",
              " 'data3/alignment/s1/lbivzs.align',\n",
              " 'data3/alignment/s1/lbwb4n.align',\n",
              " 'data3/alignment/s1/lbwb5n.align',\n",
              " 'data3/alignment/s1/lbwb5s.align',\n",
              " 'data3/alignment/s1/lbwb6n.align',\n",
              " 'data3/alignment/s1/lbwb6p.align',\n",
              " 'data3/alignment/s1/lbwb6s.align',\n",
              " 'data3/alignment/s1/lbwb7a.align',\n",
              " 'data3/alignment/s1/lbwb7n.align',\n",
              " 'data3/alignment/s1/lbwb7p.align',\n",
              " 'data3/alignment/s1/lbwb7s.align',\n",
              " 'data3/alignment/s1/lbwb8a.align',\n",
              " 'data3/alignment/s1/lbwb8n.align',\n",
              " 'data3/alignment/s1/lbwb8p.align',\n",
              " 'data3/alignment/s1/lbwb8s.align',\n",
              " 'data3/alignment/s1/lbwb9a.align',\n",
              " 'data3/alignment/s1/lbwb9n.align',\n",
              " 'data3/alignment/s1/lbwb9p.align',\n",
              " 'data3/alignment/s1/lbwb9s.align',\n",
              " 'data3/alignment/s1/lbwc1a.align',\n",
              " 'data3/alignment/s1/lbwc1n.align',\n",
              " 'data3/alignment/s1/lbwc1p.align',\n",
              " 'data3/alignment/s1/lbwc1s.align',\n",
              " 'data3/alignment/s1/lbwc2a.align',\n",
              " 'data3/alignment/s1/lbwc2n.align',\n",
              " 'data3/alignment/s1/lbwc2p.align',\n",
              " 'data3/alignment/s1/lbwc2s.align',\n",
              " 'data3/alignment/s1/lbwc3a.align',\n",
              " 'data3/alignment/s1/lbwc3n.align',\n",
              " 'data3/alignment/s1/lbwc3p.align',\n",
              " 'data3/alignment/s1/lbwc3s.align',\n",
              " 'data3/alignment/s1/lbwc4a.align',\n",
              " 'data3/alignment/s1/lbwc4p.align',\n",
              " 'data3/alignment/s1/lbwc4s.align',\n",
              " 'data3/alignment/s1/lbwc5a.align',\n",
              " 'data3/alignment/s1/lbwc5n.align',\n",
              " 'data3/alignment/s1/lbwc5p.align',\n",
              " 'data3/alignment/s1/lbwc6a.align',\n",
              " 'data3/alignment/s1/lbwc6n.align',\n",
              " 'data3/alignment/s1/lbwc6s.align',\n",
              " 'data3/alignment/s1/lbwc7n.align',\n",
              " 'data3/alignment/s1/lbwc7p.align',\n",
              " 'data3/alignment/s1/lbwc7s.align',\n",
              " 'data3/alignment/s1/lbwc8a.align',\n",
              " 'data3/alignment/s1/lbwc8n.align',\n",
              " 'data3/alignment/s1/lbwc8p.align',\n",
              " 'data3/alignment/s1/lbwc8s.align',\n",
              " 'data3/alignment/s1/lbwc9a.align',\n",
              " 'data3/alignment/s1/lbwc9n.align',\n",
              " 'data3/alignment/s1/lbwc9p.align',\n",
              " 'data3/alignment/s1/lbwc9s.align',\n",
              " 'data3/alignment/s1/lbwcza.align',\n",
              " 'data3/alignment/s1/lbwczn.align',\n",
              " 'data3/alignment/s1/lbwczp.align',\n",
              " 'data3/alignment/s1/lbwczs.align',\n",
              " 'data3/alignment/s1/lbwd1a.align',\n",
              " 'data3/alignment/s1/lbwd1p.align',\n",
              " 'data3/alignment/s1/lbwd2a.align',\n",
              " 'data3/alignment/s1/lbwdza.align',\n",
              " 'data3/alignment/s1/lbwdzp.align',\n",
              " 'data3/alignment/s1/lbwdzs.align',\n",
              " 'data3/alignment/s1/lbwh8n.align',\n",
              " 'data3/alignment/s1/lbwh9n.align',\n",
              " 'data3/alignment/s1/lbwh9s.align',\n",
              " 'data3/alignment/s1/lbwi1a.align',\n",
              " 'data3/alignment/s1/lbwi1n.align',\n",
              " 'data3/alignment/s1/lbwi1p.align',\n",
              " 'data3/alignment/s1/lbwi1s.align',\n",
              " 'data3/alignment/s1/lbwi2a.align',\n",
              " 'data3/alignment/s1/lbwi2n.align',\n",
              " 'data3/alignment/s1/lbwi2p.align',\n",
              " 'data3/alignment/s1/lbwi2s.align',\n",
              " 'data3/alignment/s1/lbwi3a.align',\n",
              " 'data3/alignment/s1/lbwi3n.align',\n",
              " 'data3/alignment/s1/lbwi3p.align',\n",
              " 'data3/alignment/s1/lbwi3s.align',\n",
              " 'data3/alignment/s1/lbwi4a.align',\n",
              " 'data3/alignment/s1/lbwi4n.align',\n",
              " 'data3/alignment/s1/lbwi4p.align',\n",
              " 'data3/alignment/s1/lbwi4s.align',\n",
              " 'data3/alignment/s1/lbwi5a.align',\n",
              " 'data3/alignment/s1/lbwi5n.align',\n",
              " 'data3/alignment/s1/lbwi5p.align',\n",
              " 'data3/alignment/s1/lbwi5s.align',\n",
              " 'data3/alignment/s1/lbwi6a.align',\n",
              " 'data3/alignment/s1/lbwi6n.align',\n",
              " 'data3/alignment/s1/lbwi6p.align',\n",
              " 'data3/alignment/s1/lbwi6s.align',\n",
              " 'data3/alignment/s1/lbwi7a.align',\n",
              " 'data3/alignment/s1/lbwi7n.align',\n",
              " 'data3/alignment/s1/lbwi7p.align',\n",
              " 'data3/alignment/s1/lbwi7s.align',\n",
              " 'data3/alignment/s1/lbwi8a.align',\n",
              " 'data3/alignment/s1/lbwi8p.align',\n",
              " 'data3/alignment/s1/lbwi8s.align',\n",
              " 'data3/alignment/s1/lbwi9a.align',\n",
              " 'data3/alignment/s1/lbwi9n.align',\n",
              " 'data3/alignment/s1/lbwi9p.align',\n",
              " 'data3/alignment/s1/lbwizn.align',\n",
              " 'data3/alignment/s1/lbwizp.align',\n",
              " 'data3/alignment/s1/lbwizs.align',\n",
              " 'data3/alignment/s1/lbwj1n.align',\n",
              " 'data3/alignment/s1/lbwj1p.align',\n",
              " 'data3/alignment/s1/lbwj1s.align',\n",
              " 'data3/alignment/s1/lbwj2a.align',\n",
              " 'data3/alignment/s1/lbwj2n.align',\n",
              " 'data3/alignment/s1/lbwj2p.align',\n",
              " 'data3/alignment/s1/lbwj2s.align',\n",
              " 'data3/alignment/s1/lbwj3a.align',\n",
              " 'data3/alignment/s1/lbwj3n.align',\n",
              " 'data3/alignment/s1/lbwj3p.align',\n",
              " 'data3/alignment/s1/lbwj3s.align',\n",
              " 'data3/alignment/s1/lbwj4a.align',\n",
              " 'data3/alignment/s1/lbwj4p.align',\n",
              " 'data3/alignment/s1/lbwj4s.align',\n",
              " 'data3/alignment/s1/lbwj5a.align',\n",
              " 'data3/alignment/s1/lbwj5p.align',\n",
              " 'data3/alignment/s1/lbwj6a.align',\n",
              " 'data3/alignment/s1/lbwjza.align',\n",
              " 'data3/alignment/s1/lbwjzn.align',\n",
              " 'data3/alignment/s1/lbwjzs.align',\n",
              " 'data3/alignment/s1/lbwo2n.align',\n",
              " 'data3/alignment/s1/lbwo3n.align',\n",
              " 'data3/alignment/s1/lbwo3s.align',\n",
              " 'data3/alignment/s1/lbwo4n.align',\n",
              " 'data3/alignment/s1/lbwo4p.align',\n",
              " 'data3/alignment/s1/lbwo4s.align',\n",
              " 'data3/alignment/s1/lbwo5a.align',\n",
              " 'data3/alignment/s1/lbwo5n.align',\n",
              " 'data3/alignment/s1/lbwo5p.align',\n",
              " 'data3/alignment/s1/lbwo5s.align',\n",
              " 'data3/alignment/s1/lbwo6a.align',\n",
              " 'data3/alignment/s1/lbwo6n.align',\n",
              " 'data3/alignment/s1/lbwo6p.align',\n",
              " 'data3/alignment/s1/lbwo6s.align',\n",
              " 'data3/alignment/s1/lbwo7a.align',\n",
              " 'data3/alignment/s1/lbwo7n.align',\n",
              " 'data3/alignment/s1/lbwo7p.align',\n",
              " 'data3/alignment/s1/lbwo7s.align',\n",
              " 'data3/alignment/s1/lbwo8a.align',\n",
              " 'data3/alignment/s1/lbwo8n.align',\n",
              " 'data3/alignment/s1/lbwo8p.align',\n",
              " 'data3/alignment/s1/lbwo8s.align',\n",
              " 'data3/alignment/s1/lbwo9a.align',\n",
              " 'data3/alignment/s1/lbwo9n.align',\n",
              " 'data3/alignment/s1/lbwo9p.align',\n",
              " 'data3/alignment/s1/lbwo9s.align',\n",
              " 'data3/alignment/s1/lbwp1a.align',\n",
              " 'data3/alignment/s1/lbwp1n.align',\n",
              " 'data3/alignment/s1/lbwp1p.align',\n",
              " 'data3/alignment/s1/lbwp1s.align',\n",
              " 'data3/alignment/s1/lbwp2a.align',\n",
              " 'data3/alignment/s1/lbwp2p.align',\n",
              " 'data3/alignment/s1/lbwp2s.align',\n",
              " 'data3/alignment/s1/lbwp3a.align',\n",
              " 'data3/alignment/s1/lbwp3n.align',\n",
              " 'data3/alignment/s1/lbwp3p.align',\n",
              " 'data3/alignment/s1/lbwp4a.align',\n",
              " 'data3/alignment/s1/lbwp4n.align',\n",
              " 'data3/alignment/s1/lbwp4s.align',\n",
              " 'data3/alignment/s1/lbwp5n.align',\n",
              " 'data3/alignment/s1/lbwp5p.align',\n",
              " 'data3/alignment/s1/lbwp5s.align',\n",
              " 'data3/alignment/s1/lbwp6a.align',\n",
              " 'data3/alignment/s1/lbwp6n.align',\n",
              " 'data3/alignment/s1/lbwp6p.align',\n",
              " 'data3/alignment/s1/lbwp6s.align',\n",
              " 'data3/alignment/s1/lbwp7a.align',\n",
              " 'data3/alignment/s1/lbwp7n.align',\n",
              " 'data3/alignment/s1/lbwp7p.align',\n",
              " 'data3/alignment/s1/lbwp7s.align',\n",
              " 'data3/alignment/s1/lbwp8a.align',\n",
              " 'data3/alignment/s1/lbwp8p.align',\n",
              " 'data3/alignment/s1/lbwp8s.align',\n",
              " 'data3/alignment/s1/lbwp9a.align',\n",
              " 'data3/alignment/s1/lbwp9p.align',\n",
              " 'data3/alignment/s1/lbwpza.align',\n",
              " 'data3/alignment/s1/lbwpzn.align',\n",
              " 'data3/alignment/s1/lbwpzp.align',\n",
              " 'data3/alignment/s1/lbwpzs.align',\n",
              " 'data3/alignment/s1/lbwqza.align',\n",
              " 'data3/alignment/s1/lbwu6n.align',\n",
              " 'data3/alignment/s1/lbwu7n.align',\n",
              " 'data3/alignment/s1/lbwu7s.align',\n",
              " 'data3/alignment/s1/lbwu8n.align',\n",
              " 'data3/alignment/s1/lbwu8p.align',\n",
              " 'data3/alignment/s1/lbwu8s.align',\n",
              " 'data3/alignment/s1/lbwu9a.align',\n",
              " 'data3/alignment/s1/lbwu9n.align',\n",
              " 'data3/alignment/s1/lbwu9p.align',\n",
              " 'data3/alignment/s1/lbwu9s.align',\n",
              " 'data3/alignment/s1/lbwv1a.align',\n",
              " 'data3/alignment/s1/lbwv1n.align',\n",
              " 'data3/alignment/s1/lbwv1p.align',\n",
              " 'data3/alignment/s1/lbwv1s.align',\n",
              " 'data3/alignment/s1/lbwv2a.align',\n",
              " 'data3/alignment/s1/lbwv2n.align',\n",
              " 'data3/alignment/s1/lbwv2p.align',\n",
              " 'data3/alignment/s1/lbwv2s.align',\n",
              " 'data3/alignment/s1/lbwv3a.align',\n",
              " 'data3/alignment/s1/lbwv3n.align',\n",
              " 'data3/alignment/s1/lbwv3p.align',\n",
              " 'data3/alignment/s1/lbwv3s.align',\n",
              " 'data3/alignment/s1/lbwv4a.align',\n",
              " 'data3/alignment/s1/lbwv4n.align',\n",
              " 'data3/alignment/s1/lbwv4p.align',\n",
              " 'data3/alignment/s1/lbwv4s.align',\n",
              " 'data3/alignment/s1/lbwv5a.align',\n",
              " 'data3/alignment/s1/lbwv5n.align',\n",
              " 'data3/alignment/s1/lbwv5p.align',\n",
              " 'data3/alignment/s1/lbwv5s.align',\n",
              " 'data3/alignment/s1/lbwv6a.align',\n",
              " 'data3/alignment/s1/lbwv6p.align',\n",
              " 'data3/alignment/s1/lbwv6s.align',\n",
              " 'data3/alignment/s1/lbwv7a.align',\n",
              " 'data3/alignment/s1/lbwv7n.align',\n",
              " 'data3/alignment/s1/lbwv7p.align',\n",
              " 'data3/alignment/s1/lbwv8a.align',\n",
              " 'data3/alignment/s1/lbwv8n.align',\n",
              " 'data3/alignment/s1/lbwv8s.align',\n",
              " 'data3/alignment/s1/lbwv9n.align',\n",
              " 'data3/alignment/s1/lbwv9p.align',\n",
              " 'data3/alignment/s1/lbwv9s.align',\n",
              " 'data3/alignment/s1/lbwvza.align',\n",
              " 'data3/alignment/s1/lbwvzn.align',\n",
              " 'data3/alignment/s1/lbwvzp.align',\n",
              " 'data3/alignment/s1/lbwvzs.align',\n",
              " 'data3/alignment/s1/lbwx1a.align',\n",
              " 'data3/alignment/s1/lbwx1n.align',\n",
              " 'data3/alignment/s1/lbwx1p.align',\n",
              " 'data3/alignment/s1/lbwx1s.align',\n",
              " 'data3/alignment/s1/lbwx2a.align',\n",
              " 'data3/alignment/s1/lbwx2p.align',\n",
              " 'data3/alignment/s1/lbwx2s.align',\n",
              " 'data3/alignment/s1/lbwx3a.align',\n",
              " 'data3/alignment/s1/lbwx3p.align',\n",
              " 'data3/alignment/s1/lbwx4a.align',\n",
              " 'data3/alignment/s1/lbwxza.align',\n",
              " 'data3/alignment/s1/lbwxzn.align',\n",
              " 'data3/alignment/s1/lbwxzp.align',\n",
              " 'data3/alignment/s1/lbwxzs.align',\n",
              " 'data3/s1/',\n",
              " 'data3/s1/bbab8n.mpg',\n",
              " 'data3/s1/bbab9s.mpg',\n",
              " 'data3/s1/bbac1a.mpg',\n",
              " 'data3/s1/bbaczp.mpg',\n",
              " 'data3/s1/bbad8n.mpg',\n",
              " 'data3/s1/bbad9n.mpg',\n",
              " 'data3/s1/bbad9s.mpg',\n",
              " 'data3/s1/bbae1a.mpg',\n",
              " 'data3/s1/bbae1n.mpg',\n",
              " 'data3/s1/bbae1p.mpg',\n",
              " 'data3/s1/bbae1s.mpg',\n",
              " 'data3/s1/bbae2a.mpg',\n",
              " 'data3/s1/bbae2n.mpg',\n",
              " 'data3/s1/bbae2p.mpg',\n",
              " 'data3/s1/bbae2s.mpg',\n",
              " 'data3/s1/bbae3a.mpg',\n",
              " 'data3/s1/bbae3p.mpg',\n",
              " 'data3/s1/bbae3s.mpg',\n",
              " 'data3/s1/bbae4a.mpg',\n",
              " 'data3/s1/bbae4n.mpg',\n",
              " 'data3/s1/bbae4p.mpg',\n",
              " 'data3/s1/bbae5a.mpg',\n",
              " 'data3/s1/bbae5n.mpg',\n",
              " 'data3/s1/bbae5s.mpg',\n",
              " 'data3/s1/bbae6n.mpg',\n",
              " 'data3/s1/bbae6p.mpg',\n",
              " 'data3/s1/bbae6s.mpg',\n",
              " 'data3/s1/bbae7a.mpg',\n",
              " 'data3/s1/bbae7n.mpg',\n",
              " 'data3/s1/bbae7p.mpg',\n",
              " 'data3/s1/bbae7s.mpg',\n",
              " 'data3/s1/bbae8a.mpg',\n",
              " 'data3/s1/bbae8n.mpg',\n",
              " 'data3/s1/bbae8p.mpg',\n",
              " 'data3/s1/bbae8s.mpg',\n",
              " 'data3/s1/bbae9a.mpg',\n",
              " 'data3/s1/bbae9n.mpg',\n",
              " 'data3/s1/bbae9p.mpg',\n",
              " 'data3/s1/bbae9s.mpg',\n",
              " 'data3/s1/bbaezn.mpg',\n",
              " 'data3/s1/bbaezp.mpg',\n",
              " 'data3/s1/bbaezs.mpg',\n",
              " 'data3/s1/bbaf1a.mpg',\n",
              " 'data3/s1/bbaf1n.mpg',\n",
              " 'data3/s1/bbaf1p.mpg',\n",
              " 'data3/s1/bbaf1s.mpg',\n",
              " 'data3/s1/bbaf2n.mpg',\n",
              " 'data3/s1/bbaf2p.mpg',\n",
              " 'data3/s1/bbaf2s.mpg',\n",
              " 'data3/s1/bbaf3a.mpg',\n",
              " 'data3/s1/bbaf3p.mpg',\n",
              " 'data3/s1/bbaf3s.mpg',\n",
              " 'data3/s1/bbaf4a.mpg',\n",
              " 'data3/s1/bbaf4p.mpg',\n",
              " 'data3/s1/bbaf5a.mpg',\n",
              " 'data3/s1/bbafza.mpg',\n",
              " 'data3/s1/bbafzn.mpg',\n",
              " 'data3/s1/bbafzp.mpg',\n",
              " 'data3/s1/bbafzs.mpg',\n",
              " 'data3/s1/bbai2n.mpg',\n",
              " 'data3/s1/bbai3s.mpg',\n",
              " 'data3/s1/bbai4p.mpg',\n",
              " 'data3/s1/bbai5a.mpg',\n",
              " 'data3/s1/bbak2n.mpg',\n",
              " 'data3/s1/bbak3n.mpg',\n",
              " 'data3/s1/bbak3s.mpg',\n",
              " 'data3/s1/bbak4n.mpg',\n",
              " 'data3/s1/bbak4p.mpg',\n",
              " 'data3/s1/bbak4s.mpg',\n",
              " 'data3/s1/bbak5a.mpg',\n",
              " 'data3/s1/bbak5n.mpg',\n",
              " 'data3/s1/bbak5p.mpg',\n",
              " 'data3/s1/bbak5s.mpg',\n",
              " 'data3/s1/bbak6a.mpg',\n",
              " 'data3/s1/bbak6n.mpg',\n",
              " 'data3/s1/bbak6p.mpg',\n",
              " 'data3/s1/bbak6s.mpg',\n",
              " 'data3/s1/bbak7a.mpg',\n",
              " 'data3/s1/bbak7p.mpg',\n",
              " 'data3/s1/bbak7s.mpg',\n",
              " 'data3/s1/bbak8a.mpg',\n",
              " 'data3/s1/bbak8n.mpg',\n",
              " 'data3/s1/bbak8p.mpg',\n",
              " 'data3/s1/bbak9a.mpg',\n",
              " 'data3/s1/bbak9n.mpg',\n",
              " 'data3/s1/bbak9s.mpg',\n",
              " 'data3/s1/bbal1a.mpg',\n",
              " 'data3/s1/bbal1n.mpg',\n",
              " 'data3/s1/bbal1p.mpg',\n",
              " 'data3/s1/bbal1s.mpg',\n",
              " 'data3/s1/bbal2a.mpg',\n",
              " 'data3/s1/bbal2n.mpg',\n",
              " 'data3/s1/bbal2p.mpg',\n",
              " 'data3/s1/bbal2s.mpg',\n",
              " 'data3/s1/bbal3a.mpg',\n",
              " 'data3/s1/bbal3n.mpg',\n",
              " 'data3/s1/bbal3p.mpg',\n",
              " 'data3/s1/bbal3s.mpg',\n",
              " 'data3/s1/bbal4a.mpg',\n",
              " 'data3/s1/bbal4n.mpg',\n",
              " 'data3/s1/bbal4p.mpg',\n",
              " 'data3/s1/bbal4s.mpg',\n",
              " 'data3/s1/bbal5a.mpg',\n",
              " 'data3/s1/bbal5n.mpg',\n",
              " 'data3/s1/bbal5p.mpg',\n",
              " 'data3/s1/bbal5s.mpg',\n",
              " 'data3/s1/bbal6a.mpg',\n",
              " 'data3/s1/bbal6n.mpg',\n",
              " 'data3/s1/bbal6p.mpg',\n",
              " 'data3/s1/bbal6s.mpg',\n",
              " 'data3/s1/bbal7a.mpg',\n",
              " 'data3/s1/bbal7p.mpg',\n",
              " 'data3/s1/bbal7s.mpg',\n",
              " 'data3/s1/bbal8a.mpg',\n",
              " 'data3/s1/bbal8p.mpg',\n",
              " 'data3/s1/bbal9a.mpg',\n",
              " 'data3/s1/bbalzn.mpg',\n",
              " 'data3/s1/bbalzp.mpg',\n",
              " 'data3/s1/bbalzs.mpg',\n",
              " 'data3/s1/bbao6n.mpg',\n",
              " 'data3/s1/bbao7s.mpg',\n",
              " 'data3/s1/bbao8p.mpg',\n",
              " 'data3/s1/bbao9a.mpg',\n",
              " 'data3/s1/bbaq6n.mpg',\n",
              " 'data3/s1/bbaq7n.mpg',\n",
              " 'data3/s1/bbaq7s.mpg',\n",
              " 'data3/s1/bbaq8n.mpg',\n",
              " 'data3/s1/bbaq8p.mpg',\n",
              " 'data3/s1/bbaq8s.mpg',\n",
              " 'data3/s1/bbaq9a.mpg',\n",
              " 'data3/s1/bbaq9n.mpg',\n",
              " 'data3/s1/bbaq9p.mpg',\n",
              " 'data3/s1/bbaq9s.mpg',\n",
              " 'data3/s1/bbar1a.mpg',\n",
              " 'data3/s1/bbar1p.mpg',\n",
              " 'data3/s1/bbar1s.mpg',\n",
              " 'data3/s1/bbar2a.mpg',\n",
              " 'data3/s1/bbar2n.mpg',\n",
              " 'data3/s1/bbar2p.mpg',\n",
              " 'data3/s1/bbar3a.mpg',\n",
              " 'data3/s1/bbar3n.mpg',\n",
              " 'data3/s1/bbar3s.mpg',\n",
              " 'data3/s1/bbar4n.mpg',\n",
              " 'data3/s1/bbar4p.mpg',\n",
              " 'data3/s1/bbar4s.mpg',\n",
              " 'data3/s1/bbar5a.mpg',\n",
              " 'data3/s1/bbar5n.mpg',\n",
              " 'data3/s1/bbar5p.mpg',\n",
              " 'data3/s1/bbar5s.mpg',\n",
              " 'data3/s1/bbar6n.mpg',\n",
              " 'data3/s1/bbar6p.mpg',\n",
              " 'data3/s1/bbar6s.mpg',\n",
              " 'data3/s1/bbar7a.mpg',\n",
              " 'data3/s1/bbar7n.mpg',\n",
              " 'data3/s1/bbar7p.mpg',\n",
              " 'data3/s1/bbar7s.mpg',\n",
              " 'data3/s1/bbar8a.mpg',\n",
              " 'data3/s1/bbar8n.mpg',\n",
              " 'data3/s1/bbar8p.mpg',\n",
              " 'data3/s1/bbar8s.mpg',\n",
              " 'data3/s1/bbar9a.mpg',\n",
              " 'data3/s1/bbar9n.mpg',\n",
              " 'data3/s1/bbar9p.mpg',\n",
              " 'data3/s1/bbar9s.mpg',\n",
              " 'data3/s1/bbarza.mpg',\n",
              " 'data3/s1/bbarzn.mpg',\n",
              " 'data3/s1/bbarzp.mpg',\n",
              " 'data3/s1/bbarzs.mpg',\n",
              " 'data3/s1/bbas1a.mpg',\n",
              " 'data3/s1/bbas1p.mpg',\n",
              " 'data3/s1/bbas1s.mpg',\n",
              " 'data3/s1/bbas2a.mpg',\n",
              " 'data3/s1/bbas2p.mpg',\n",
              " 'data3/s1/bbas3a.mpg',\n",
              " 'data3/s1/bbasza.mpg',\n",
              " 'data3/s1/bbaszn.mpg',\n",
              " 'data3/s1/bbaszp.mpg',\n",
              " 'data3/s1/bbaszs.mpg',\n",
              " 'data3/s1/bbav1s.mpg',\n",
              " 'data3/s1/bbav2p.mpg',\n",
              " 'data3/s1/bbav3a.mpg',\n",
              " 'data3/s1/bbavzn.mpg',\n",
              " 'data3/s1/bbay1n.mpg',\n",
              " 'data3/s1/bbay1s.mpg',\n",
              " 'data3/s1/bbay2n.mpg',\n",
              " 'data3/s1/bbay2p.mpg',\n",
              " 'data3/s1/bbay2s.mpg',\n",
              " 'data3/s1/bbay3a.mpg',\n",
              " 'data3/s1/bbay3n.mpg',\n",
              " 'data3/s1/bbay3p.mpg',\n",
              " 'data3/s1/bbay3s.mpg',\n",
              " 'data3/s1/bbay4a.mpg',\n",
              " 'data3/s1/bbay4n.mpg',\n",
              " 'data3/s1/bbay4p.mpg',\n",
              " 'data3/s1/bbay4s.mpg',\n",
              " 'data3/s1/bbay5a.mpg',\n",
              " 'data3/s1/bbay5p.mpg',\n",
              " 'data3/s1/bbay5s.mpg',\n",
              " 'data3/s1/bbay6a.mpg',\n",
              " 'data3/s1/bbay6n.mpg',\n",
              " 'data3/s1/bbay6p.mpg',\n",
              " 'data3/s1/bbay7a.mpg',\n",
              " 'data3/s1/bbay7n.mpg',\n",
              " 'data3/s1/bbay7s.mpg',\n",
              " 'data3/s1/bbay8n.mpg',\n",
              " 'data3/s1/bbay8p.mpg',\n",
              " 'data3/s1/bbay8s.mpg',\n",
              " 'data3/s1/bbay9a.mpg',\n",
              " 'data3/s1/bbay9n.mpg',\n",
              " 'data3/s1/bbay9s.mpg',\n",
              " 'data3/s1/bbayzn.mpg',\n",
              " 'data3/s1/bbaz1a.mpg',\n",
              " 'data3/s1/bbaz1n.mpg',\n",
              " 'data3/s1/bbaz1p.mpg',\n",
              " 'data3/s1/bbaz1s.mpg',\n",
              " 'data3/s1/bbaz2a.mpg',\n",
              " 'data3/s1/bbaz2n.mpg',\n",
              " 'data3/s1/bbaz2p.mpg',\n",
              " 'data3/s1/bbaz2s.mpg',\n",
              " 'data3/s1/bbaz3a.mpg',\n",
              " 'data3/s1/bbaz3n.mpg',\n",
              " 'data3/s1/bbaz3p.mpg',\n",
              " 'data3/s1/bbaz3s.mpg',\n",
              " 'data3/s1/bbaz4a.mpg',\n",
              " 'data3/s1/bbaz4n.mpg',\n",
              " 'data3/s1/bbaz4p.mpg',\n",
              " 'data3/s1/bbaz4s.mpg',\n",
              " 'data3/s1/bbaz5a.mpg',\n",
              " 'data3/s1/bbaz5p.mpg',\n",
              " 'data3/s1/bbaz5s.mpg',\n",
              " 'data3/s1/bbaz6a.mpg',\n",
              " 'data3/s1/bbaz6p.mpg',\n",
              " 'data3/s1/bbaz7a.mpg',\n",
              " 'data3/s1/bbazza.mpg',\n",
              " 'data3/s1/bbazzn.mpg',\n",
              " 'data3/s1/bbazzp.mpg',\n",
              " 'data3/s1/bbazzs.mpg',\n",
              " 'data3/s1/bbbc2n.mpg',\n",
              " 'data3/s1/bbbc3s.mpg',\n",
              " 'data3/s1/bbbc4p.mpg',\n",
              " 'data3/s1/bbbc5a.mpg',\n",
              " 'data3/s1/bbbe2n.mpg',\n",
              " 'data3/s1/bbbe3n.mpg',\n",
              " 'data3/s1/bbbe3s.mpg',\n",
              " 'data3/s1/bbbe4n.mpg',\n",
              " 'data3/s1/bbbe4p.mpg',\n",
              " 'data3/s1/bbbe4s.mpg',\n",
              " 'data3/s1/bbbe5a.mpg',\n",
              " 'data3/s1/bbbe5n.mpg',\n",
              " 'data3/s1/bbbe5p.mpg',\n",
              " 'data3/s1/bbbe5s.mpg',\n",
              " 'data3/s1/bbbe6a.mpg',\n",
              " 'data3/s1/bbbe6n.mpg',\n",
              " 'data3/s1/bbbe6p.mpg',\n",
              " 'data3/s1/bbbe6s.mpg',\n",
              " 'data3/s1/bbbe7a.mpg',\n",
              " 'data3/s1/bbbe7p.mpg',\n",
              " 'data3/s1/bbbe7s.mpg',\n",
              " 'data3/s1/bbbe8a.mpg',\n",
              " 'data3/s1/bbbe8n.mpg',\n",
              " 'data3/s1/bbbe8p.mpg',\n",
              " 'data3/s1/bbbe9a.mpg',\n",
              " 'data3/s1/bbbe9n.mpg',\n",
              " 'data3/s1/bbbe9s.mpg',\n",
              " 'data3/s1/bbbf1a.mpg',\n",
              " 'data3/s1/bbbf1n.mpg',\n",
              " 'data3/s1/bbbf1p.mpg',\n",
              " 'data3/s1/bbbf1s.mpg',\n",
              " 'data3/s1/bbbf2a.mpg',\n",
              " 'data3/s1/bbbf2n.mpg',\n",
              " 'data3/s1/bbbf2p.mpg',\n",
              " 'data3/s1/bbbf2s.mpg',\n",
              " 'data3/s1/bbbf3a.mpg',\n",
              " 'data3/s1/bbbf3n.mpg',\n",
              " 'data3/s1/bbbf3p.mpg',\n",
              " 'data3/s1/bbbf3s.mpg',\n",
              " 'data3/s1/bbbf4a.mpg',\n",
              " 'data3/s1/bbbf4n.mpg',\n",
              " 'data3/s1/bbbf4p.mpg',\n",
              " 'data3/s1/bbbf4s.mpg',\n",
              " 'data3/s1/bbbf5a.mpg',\n",
              " 'data3/s1/bbbf5n.mpg',\n",
              " 'data3/s1/bbbf5p.mpg',\n",
              " 'data3/s1/bbbf5s.mpg',\n",
              " 'data3/s1/bbbf6a.mpg',\n",
              " 'data3/s1/bbbf6n.mpg',\n",
              " 'data3/s1/bbbf6p.mpg',\n",
              " 'data3/s1/bbbf6s.mpg',\n",
              " 'data3/s1/bbbf7a.mpg',\n",
              " 'data3/s1/bbbf7p.mpg',\n",
              " 'data3/s1/bbbf7s.mpg',\n",
              " 'data3/s1/bbbf8a.mpg',\n",
              " 'data3/s1/bbbf8p.mpg',\n",
              " 'data3/s1/bbbf9a.mpg',\n",
              " 'data3/s1/bbbfzn.mpg',\n",
              " 'data3/s1/bbbfzp.mpg',\n",
              " 'data3/s1/bbbfzs.mpg',\n",
              " 'data3/s1/bbbl7n.mpg',\n",
              " 'data3/s1/bbwf3n.mpg',\n",
              " 'data3/s1/bbwz5n.mpg',\n",
              " 'data3/s1/lbit4n.mpg',\n",
              " 'data3/s1/lbit5n.mpg',\n",
              " 'data3/s1/lbit5s.mpg',\n",
              " 'data3/s1/lbit6n.mpg',\n",
              " 'data3/s1/lbit6p.mpg',\n",
              " 'data3/s1/lbit6s.mpg',\n",
              " 'data3/s1/lbit7a.mpg',\n",
              " 'data3/s1/lbit7n.mpg',\n",
              " 'data3/s1/lbit7p.mpg',\n",
              " 'data3/s1/lbit7s.mpg',\n",
              " 'data3/s1/lbit8a.mpg',\n",
              " 'data3/s1/lbit8n.mpg',\n",
              " 'data3/s1/lbit8p.mpg',\n",
              " 'data3/s1/lbit8s.mpg',\n",
              " 'data3/s1/lbit9a.mpg',\n",
              " 'data3/s1/lbit9n.mpg',\n",
              " 'data3/s1/lbit9p.mpg',\n",
              " 'data3/s1/lbit9s.mpg',\n",
              " 'data3/s1/lbiu1a.mpg',\n",
              " 'data3/s1/lbiu1n.mpg',\n",
              " 'data3/s1/lbiu1p.mpg',\n",
              " 'data3/s1/lbiu1s.mpg',\n",
              " 'data3/s1/lbiu2a.mpg',\n",
              " 'data3/s1/lbiu2n.mpg',\n",
              " 'data3/s1/lbiu2p.mpg',\n",
              " 'data3/s1/lbiu2s.mpg',\n",
              " 'data3/s1/lbiu3a.mpg',\n",
              " 'data3/s1/lbiu3n.mpg',\n",
              " 'data3/s1/lbiu3p.mpg',\n",
              " 'data3/s1/lbiu3s.mpg',\n",
              " 'data3/s1/lbiu4a.mpg',\n",
              " 'data3/s1/lbiu4p.mpg',\n",
              " 'data3/s1/lbiu4s.mpg',\n",
              " 'data3/s1/lbiu5a.mpg',\n",
              " 'data3/s1/lbiu5n.mpg',\n",
              " 'data3/s1/lbiu5p.mpg',\n",
              " 'data3/s1/lbiu6a.mpg',\n",
              " 'data3/s1/lbiu6n.mpg',\n",
              " 'data3/s1/lbiu6s.mpg',\n",
              " 'data3/s1/lbiu7n.mpg',\n",
              " 'data3/s1/lbiu7p.mpg',\n",
              " 'data3/s1/lbiu7s.mpg',\n",
              " 'data3/s1/lbiu8a.mpg',\n",
              " 'data3/s1/lbiu8n.mpg',\n",
              " 'data3/s1/lbiu8p.mpg',\n",
              " 'data3/s1/lbiu8s.mpg',\n",
              " 'data3/s1/lbiu9a.mpg',\n",
              " 'data3/s1/lbiu9n.mpg',\n",
              " 'data3/s1/lbiu9p.mpg',\n",
              " 'data3/s1/lbiu9s.mpg',\n",
              " 'data3/s1/lbiuza.mpg',\n",
              " 'data3/s1/lbiuzn.mpg',\n",
              " 'data3/s1/lbiuzp.mpg',\n",
              " 'data3/s1/lbiuzs.mpg',\n",
              " 'data3/s1/lbiv1a.mpg',\n",
              " 'data3/s1/lbiv1p.mpg',\n",
              " 'data3/s1/lbiv2a.mpg',\n",
              " 'data3/s1/lbivza.mpg',\n",
              " 'data3/s1/lbivzp.mpg',\n",
              " 'data3/s1/lbivzs.mpg',\n",
              " 'data3/s1/lbwb4n.mpg',\n",
              " 'data3/s1/lbwb5n.mpg',\n",
              " 'data3/s1/lbwb5s.mpg',\n",
              " 'data3/s1/lbwb6n.mpg',\n",
              " 'data3/s1/lbwb6p.mpg',\n",
              " 'data3/s1/lbwb6s.mpg',\n",
              " 'data3/s1/lbwb7a.mpg',\n",
              " 'data3/s1/lbwb7n.mpg',\n",
              " 'data3/s1/lbwb7p.mpg',\n",
              " 'data3/s1/lbwb7s.mpg',\n",
              " 'data3/s1/lbwb8a.mpg',\n",
              " 'data3/s1/lbwb8n.mpg',\n",
              " 'data3/s1/lbwb8p.mpg',\n",
              " 'data3/s1/lbwb8s.mpg',\n",
              " 'data3/s1/lbwb9a.mpg',\n",
              " 'data3/s1/lbwb9n.mpg',\n",
              " 'data3/s1/lbwb9p.mpg',\n",
              " 'data3/s1/lbwb9s.mpg',\n",
              " 'data3/s1/lbwc1a.mpg',\n",
              " 'data3/s1/lbwc1n.mpg',\n",
              " 'data3/s1/lbwc1p.mpg',\n",
              " 'data3/s1/lbwc1s.mpg',\n",
              " 'data3/s1/lbwc2a.mpg',\n",
              " 'data3/s1/lbwc2n.mpg',\n",
              " 'data3/s1/lbwc2p.mpg',\n",
              " 'data3/s1/lbwc2s.mpg',\n",
              " 'data3/s1/lbwc3a.mpg',\n",
              " 'data3/s1/lbwc3n.mpg',\n",
              " 'data3/s1/lbwc3p.mpg',\n",
              " 'data3/s1/lbwc3s.mpg',\n",
              " 'data3/s1/lbwc4a.mpg',\n",
              " 'data3/s1/lbwc4p.mpg',\n",
              " 'data3/s1/lbwc4s.mpg',\n",
              " 'data3/s1/lbwc5a.mpg',\n",
              " 'data3/s1/lbwc5n.mpg',\n",
              " 'data3/s1/lbwc5p.mpg',\n",
              " ...]"
            ]
          },
          "metadata": {},
          "execution_count": 6
        }
      ],
      "source": [
        "import gdown\n",
        "url = 'https://drive.google.com/uc?id=1dAK_OW6F8et5oXSbzSUChJ10iCDWHNrL'\n",
        "output = 'data.zip'\n",
        "gdown.download(url, output, quiet=False)\n",
        "gdown.extractall('data.zip')"
      ]
    },
    {
      "cell_type": "code",
      "execution_count": null,
      "metadata": {
        "colab": {
          "base_uri": "https://localhost:8080/"
        },
        "id": "ayjzvBarTMoA",
        "outputId": "bb528fd8-3c67-4fb7-a512-ffeda3dd5c32"
      },
      "outputs": [
        {
          "output_type": "stream",
          "name": "stdout",
          "text": [
            "--2024-11-10 18:06:38--  https://github.com/JeffTrain/selfie/raw/master/shape_predictor_68_face_landmarks.dat\n",
            "Resolving github.com (github.com)... 140.82.113.4\n",
            "Connecting to github.com (github.com)|140.82.113.4|:443... connected.\n",
            "HTTP request sent, awaiting response... 302 Found\n",
            "Location: https://raw.githubusercontent.com/JeffTrain/selfie/master/shape_predictor_68_face_landmarks.dat [following]\n",
            "--2024-11-10 18:06:39--  https://raw.githubusercontent.com/JeffTrain/selfie/master/shape_predictor_68_face_landmarks.dat\n",
            "Resolving raw.githubusercontent.com (raw.githubusercontent.com)... 185.199.108.133, 185.199.109.133, 185.199.110.133, ...\n",
            "Connecting to raw.githubusercontent.com (raw.githubusercontent.com)|185.199.108.133|:443... connected.\n",
            "HTTP request sent, awaiting response... 200 OK\n",
            "Length: 99693937 (95M) [application/octet-stream]\n",
            "Saving to: ‘shape_predictor_68_face_landmarks.dat’\n",
            "\n",
            "shape_predictor_68_ 100%[===================>]  95.08M   161MB/s    in 0.6s    \n",
            "\n",
            "2024-11-10 18:06:42 (161 MB/s) - ‘shape_predictor_68_face_landmarks.dat’ saved [99693937/99693937]\n",
            "\n"
          ]
        }
      ],
      "source": [
        "!wget -nd https://github.com/JeffTrain/selfie/raw/master/shape_predictor_68_face_landmarks.dat\n"
      ]
    },
    {
      "cell_type": "code",
      "execution_count": null,
      "metadata": {
        "id": "0DSJPFJtmx7t"
      },
      "outputs": [],
      "source": [
        "# import dlib\n",
        "# import cv2\n",
        "# import tensorflow as tf\n",
        "# from typing import List\n",
        "\n",
        "# # Initialize dlib's face detector and facial landmarks predictor\n",
        "# detector = dlib.get_frontal_face_detector()\n",
        "# predictor = dlib.shape_predictor('shape_predictor_68_face_landmarks.dat')\n",
        "\n",
        "\n",
        "# def load_video(path: str) -> List[float]:\n",
        "#     cap = cv2.VideoCapture(path)\n",
        "#     frames = []\n",
        "\n",
        "#     for _ in range(int(cap.get(cv2.CAP_PROP_FRAME_COUNT))):\n",
        "#         ret, frame = cap.read()\n",
        "\n",
        "#         if not ret:\n",
        "#             break\n",
        "\n",
        "#         # Convert the frame to grayscale for dlib processing\n",
        "#         gray = cv2.cvtColor(frame, cv2.COLOR_BGR2GRAY)\n",
        "\n",
        "#         # Detect faces\n",
        "#         faces = detector(gray)\n",
        "\n",
        "#         if faces:\n",
        "#             # Use the first detected face\n",
        "#             face = faces[0]\n",
        "#             landmarks = predictor(gray, face)\n",
        "\n",
        "#             # Extract lip region using facial landmarks (points 48-67 correspond to lips)\n",
        "#             lip_points = []\n",
        "#             for i in range(48, 68):\n",
        "#                 x = landmarks.part(i).x\n",
        "#                 y = landmarks.part(i).y\n",
        "#                 lip_points.append((x, y))\n",
        "\n",
        "#             # Find the bounding box of the lips\n",
        "#             x_min = min([point[0] for point in lip_points])\n",
        "#             x_max = max([point[0] for point in lip_points])\n",
        "#             y_min = min([point[1] for point in lip_points])\n",
        "#             y_max = max([point[1] for point in lip_points])\n",
        "\n",
        "#             # Crop the lip region\n",
        "#             lip_frame = frame[y_min:y_max, x_min:x_max]\n",
        "#             lip_frame = cv2.resize(lip_frame, (140, 46))  # Resize to a fixed size for consistency\n",
        "\n",
        "#             # Convert to grayscale\n",
        "#             lip_frame = tf.image.rgb_to_grayscale(lip_frame)\n",
        "#             frames.append(lip_frame)\n",
        "\n",
        "#     cap.release()\n",
        "\n",
        "#     mean = tf.math.reduce_mean(frames)\n",
        "#     std = tf.math.reduce_std(tf.cast(frames, tf.float32))\n",
        "\n",
        "#     return tf.cast((frames - mean), tf.float32) / std\n"
      ]
    },
    {
      "cell_type": "code",
      "execution_count": null,
      "metadata": {
        "id": "uqU4YEo9V9vB"
      },
      "outputs": [],
      "source": [
        "import dlib\n",
        "import cv2\n",
        "import tensorflow as tf\n",
        "from typing import List\n",
        "import numpy as np\n",
        "\n",
        "# Initialize dlib's face detector and facial landmarks predictor\n",
        "detector = dlib.get_frontal_face_detector()\n",
        "predictor = dlib.shape_predictor('shape_predictor_68_face_landmarks.dat')\n",
        "\n",
        "def load_video(path: str) -> List[float]:\n",
        "    cap = cv2.VideoCapture(path)\n",
        "    frames = []\n",
        "    # frame_count = 0  # Initialize a frame counter\n",
        "\n",
        "    for _ in range(int(cap.get(cv2.CAP_PROP_FRAME_COUNT))):\n",
        "        ret, frame = cap.read()\n",
        "\n",
        "        if not ret:\n",
        "          # print(f\"Failed to read frame {frame_count} from video.\")\n",
        "          break\n",
        "\n",
        "        # print(f\"Processed frame {frame_count}\")  # Debugging line\n",
        "        # Convert the frame to grayscale for dlib processing\n",
        "        gray = cv2.cvtColor(frame, cv2.COLOR_BGR2GRAY)\n",
        "\n",
        "        # Detect faces\n",
        "        faces = detector(gray)\n",
        "\n",
        "        if faces:\n",
        "            # Use the first detected face\n",
        "            face = faces[0]\n",
        "            landmarks = predictor(gray, face)\n",
        "\n",
        "            # Extract lip region using facial landmarks (points 48-67 correspond to lips)\n",
        "            lip_points = []\n",
        "            for i in range(48, 68):\n",
        "                x = landmarks.part(i).x\n",
        "                y = landmarks.part(i).y\n",
        "                lip_points.append((x, y))\n",
        "\n",
        "            # Convert lip points to a NumPy array\n",
        "            lip_points = np.array(lip_points)\n",
        "\n",
        "            # Create a convex hull around the lip points to define the boundary\n",
        "            hull = cv2.convexHull(lip_points)\n",
        "\n",
        "            # Create a mask of the same size as the frame\n",
        "            mask = np.zeros_like(frame)\n",
        "\n",
        "            # Draw the convex hull on the mask\n",
        "            cv2.fillConvexPoly(mask, hull, (255, 255, 255))\n",
        "\n",
        "            # Extract the lip region by applying the mask to the frame\n",
        "            lip_region = cv2.bitwise_and(frame, mask)\n",
        "\n",
        "            # Find the bounding box of the lips\n",
        "            x_min = np.min(lip_points[:, 0])\n",
        "            x_max = np.max(lip_points[:, 0])\n",
        "            y_min = np.min(lip_points[:, 1])\n",
        "            y_max = np.max(lip_points[:, 1])\n",
        "\n",
        "            # Crop the lip region\n",
        "            lip_frame = lip_region[y_min:y_max, x_min:x_max]\n",
        "\n",
        "\n",
        "\n",
        "            lip_frame = cv2.resize(lip_frame, (140, 46))  # Resize to a fixed size for consistency\n",
        "\n",
        "            # Convert to grayscale\n",
        "            #print(\"Before grayscale:\", lip_frame.shape)\n",
        "            lip_frame = tf.image.rgb_to_grayscale(lip_frame)\n",
        "            #print(\"After grayscale:\", lip_frame.shape)\n",
        "\n",
        "\n",
        "            # Reshape to ensure it has the shape (46, 140, 1)\n",
        "            lip_frame = tf.reshape(lip_frame, (46, 140, 1))  # Explicitly set the shape to ensure consistency\n",
        "            #print(\"After reshape:\", lip_frame.shape)\n",
        "\n",
        "            # lip_frame = cv2.cvtColor(lip_frame, cv2.COLOR_BGR2GRAY)\n",
        "            #lip_frame = np.expand_dims(lip_frame, axis=-1)  # Add channel dimension\n",
        "            frames.append(lip_frame)\n",
        "\n",
        "        # frame_count += 1\n",
        "\n",
        "    cap.release()\n",
        "\n",
        "    frames = tf.stack(frames)  # Convert list of frames to a Tensor\n",
        "    mean = tf.math.reduce_mean(frames)\n",
        "    std = tf.math.reduce_std(tf.cast(frames, tf.float32))\n",
        "    # print(f\"Mean of frames: {mean.numpy()}, Std of frames: {std.numpy()}\")  # Debugging line\n",
        "\n",
        "    return tf.cast((frames - mean), tf.float32) / std\n",
        "\n",
        "\n"
      ]
    },
    {
      "cell_type": "code",
      "execution_count": null,
      "metadata": {
        "id": "zyf8JhmWvNUc"
      },
      "outputs": [],
      "source": [
        "vocab = [x for x in \"abcdefghijklmnopqrstuvwxyz'?!123456789 \"]"
      ]
    },
    {
      "cell_type": "code",
      "execution_count": null,
      "metadata": {
        "colab": {
          "base_uri": "https://localhost:8080/"
        },
        "id": "vGlys3f1TrJ7",
        "outputId": "53e25192-b104-4520-9115-19b4a09b92dd"
      },
      "outputs": [
        {
          "output_type": "stream",
          "name": "stdout",
          "text": [
            "The vocabulary is: ['', 'a', 'b', 'c', 'd', 'e', 'f', 'g', 'h', 'i', 'j', 'k', 'l', 'm', 'n', 'o', 'p', 'q', 'r', 's', 't', 'u', 'v', 'w', 'x', 'y', 'z', \"'\", '?', '!', '1', '2', '3', '4', '5', '6', '7', '8', '9', ' '] (size =40)\n"
          ]
        }
      ],
      "source": [
        "char_to_num = tf.keras.layers.StringLookup(vocabulary=vocab, oov_token=\"\")\n",
        "num_to_char = tf.keras.layers.StringLookup(\n",
        "    vocabulary=char_to_num.get_vocabulary(), oov_token=\"\", invert=True\n",
        ")\n",
        "\n",
        "print(\n",
        "    f\"The vocabulary is: {char_to_num.get_vocabulary()} \"\n",
        "    f\"(size ={char_to_num.vocabulary_size()})\"\n",
        ")"
      ]
    },
    {
      "cell_type": "code",
      "execution_count": null,
      "metadata": {
        "id": "VQw95ivhTvGt"
      },
      "outputs": [],
      "source": [
        "def load_alignments(path:str) -> List[str]:\n",
        "    with open(path, 'r') as f:\n",
        "        lines = f.readlines()\n",
        "    tokens = []\n",
        "    for line in lines:\n",
        "        line = line.split()\n",
        "        if line[2] != 'sil':\n",
        "            tokens = [*tokens,' ',line[2]]\n",
        "    return char_to_num(tf.reshape(tf.strings.unicode_split(tokens, input_encoding='UTF-8'), (-1)))[1:]"
      ]
    },
    {
      "cell_type": "code",
      "execution_count": null,
      "metadata": {
        "id": "y9mWHkXUT0HV"
      },
      "outputs": [],
      "source": [
        "def load_data(path: str):\n",
        "    path = bytes.decode(path.numpy())\n",
        "#/content/data/s1/bbaf2n.mpg\n",
        "    file_name = path.split('/')[-1].split('.')[0]  # Use '/' for consistency\n",
        "    video_path = os.path.join('data3', 's1', f'{file_name}.mpg')\n",
        "    alignment_path = os.path.join('data3', 'alignment', 's1', f'{file_name}.align')\n",
        "\n",
        "   #check this line in case you have some path issuse\n",
        "    # print(f\"Video Path: {video_path}\")         # Print video path\n",
        "    # print(f\"Alignment Path: {alignment_path}\") # Print alignment path\n",
        "\n",
        "    frames = load_video(video_path)\n",
        "    alignments = load_alignments(alignment_path)\n",
        "\n",
        "     # Check if frames or alignments are empty\n",
        "    if tf.shape(frames)[0] == 0:\n",
        "        print(f\"Warning: Empty frames for {file_name}. Path: {video_path}\")\n",
        "\n",
        "    if tf.shape(alignments)[0] == 0:\n",
        "        print(f\"Warning: Empty alignments for {file_name}. Path: {alignment_path}\")\n",
        "\n",
        "    #print(f\"Loaded frames shape: {frames.shape}, Alignments shape: {alignments.shape} , VIDEO IS : {video_path}\")  # Debugging line\n",
        "\n",
        "    return frames, alignments"
      ]
    },
    {
      "cell_type": "code",
      "execution_count": null,
      "metadata": {
        "colab": {
          "base_uri": "https://localhost:8080/",
          "height": 35
        },
        "id": "m3wdwnKrT4I3",
        "outputId": "03234c0e-0a37-4133-f170-0aa51f69d67b"
      },
      "outputs": [
        {
          "output_type": "execute_result",
          "data": {
            "text/plain": [
              "'bbaq8p'"
            ],
            "application/vnd.google.colaboratory.intrinsic+json": {
              "type": "string"
            }
          },
          "metadata": {},
          "execution_count": 14
        }
      ],
      "source": [
        "# test_path = '.\\\\data\\\\s1\\\\bbal6n.mpg'\n",
        "test_path = './data3/s1/bbaq8p.mpg'\n",
        "tf.convert_to_tensor(test_path).numpy().decode('utf-8').split('/')[-1].split('.')[0]"
      ]
    },
    {
      "cell_type": "code",
      "execution_count": null,
      "metadata": {
        "id": "u9wev_0yT7V0"
      },
      "outputs": [],
      "source": [
        "frames, alignments = load_data(tf.convert_to_tensor(test_path))"
      ]
    },
    {
      "cell_type": "code",
      "execution_count": null,
      "metadata": {
        "colab": {
          "base_uri": "https://localhost:8080/",
          "height": 245
        },
        "id": "_Ov_jjd4T-Pi",
        "outputId": "ffc3d832-cc62-4844-e408-07922862e998"
      },
      "outputs": [
        {
          "output_type": "execute_result",
          "data": {
            "text/plain": [
              "<matplotlib.image.AxesImage at 0x7b95f2d486d0>"
            ]
          },
          "metadata": {},
          "execution_count": 16
        },
        {
          "output_type": "display_data",
          "data": {
            "text/plain": [
              "<Figure size 640x480 with 1 Axes>"
            ],
            "image/png": "[encoded data removed]"
          },
          "metadata": {}
        }
      ],
      "source": [
        "plt.imshow(frames[46])"
      ]
    },
    {
      "cell_type": "code",
      "execution_count": null,
      "metadata": {
        "colab": {
          "base_uri": "https://localhost:8080/"
        },
        "id": "LkxhKASW62bF",
        "outputId": "0a39b352-9f1f-4016-f6ac-55e5057a2f4c"
      },
      "outputs": [
        {
          "output_type": "execute_result",
          "data": {
            "text/plain": [
              "<tf.Tensor: shape=(29,), dtype=int64, numpy=\n",
              "array([ 2,  9, 14, 39,  2, 12, 21,  5, 39,  1, 20, 39, 17, 39,  5,  9,  7,\n",
              "        8, 20, 39, 19, 16, 39, 16, 12,  5,  1, 19,  5])>"
            ]
          },
          "metadata": {},
          "execution_count": 17
        }
      ],
      "source": [
        "alignments"
      ]
    },
    {
      "cell_type": "code",
      "execution_count": null,
      "metadata": {
        "colab": {
          "base_uri": "https://localhost:8080/"
        },
        "id": "2iIeggzL63hk",
        "outputId": "9e0b056c-8ee5-4bba-eaad-f006362615fd"
      },
      "outputs": [
        {
          "output_type": "execute_result",
          "data": {
            "text/plain": [
              "<tf.Tensor: shape=(), dtype=string, numpy=b'bin blue at q eight sp please'>"
            ]
          },
          "metadata": {},
          "execution_count": 18
        }
      ],
      "source": [
        "tf.strings.reduce_join([bytes.decode(x) for x in num_to_char(alignments.numpy()).numpy()])"
      ]
    },
    {
      "cell_type": "code",
      "execution_count": null,
      "metadata": {
        "id": "_6zKHL1R669d"
      },
      "outputs": [],
      "source": [
        "from matplotlib import pyplot as plt"
      ]
    },
    {
      "cell_type": "code",
      "execution_count": null,
      "metadata": {
        "id": "Syh0H43wPBOg"
      },
      "outputs": [],
      "source": [
        "def pad_alignments(alignments):\n",
        "    # Pad the alignments to the desired shape\n",
        "     padding_size = tf.maximum(0, 40 - tf.shape(alignments)[0])\n",
        "     #return tf.pad(alignments, [[0, 40 - tf.shape(alignments)[0]]], constant_values=0)\n",
        "     return tf.pad(alignments, [[0, padding_size]], constant_values=0)  # Assuming 0 is your padding value"
      ]
    },
    {
      "cell_type": "code",
      "execution_count": null,
      "metadata": {
        "id": "AO0FEpu669Ac"
      },
      "outputs": [],
      "source": [
        "# def mappable_function(path:str) ->List[str]:\n",
        "#     # print(f\"Processing path: {path}\")\n",
        "#     result = tf.py_function(load_data, [path], (tf.float32, tf.int64))\n",
        "#     return result"
      ]
    },
    {
      "cell_type": "code",
      "execution_count": null,
      "metadata": {
        "id": "Lhyb6z-HGs3l"
      },
      "outputs": [],
      "source": [
        "# def mappable_function(path: str):\n",
        "#     frames, alignments = tf.py_function(load_data, [path], (tf.float32, tf.int64))\n",
        "#     frames.set_shape((75, 46, 140, 1))  # Set the shape for frames\n",
        "\n",
        "\n",
        "#     # Reshape alignments into a 1-D tensor to avoid the shape error\n",
        "#     alignments = tf.reshape(alignments, [-1])  # Flatten the alignments\n",
        "\n",
        "#     # Pad alignments here\n",
        "#     padded_alignments = pad_alignments(alignments)\n",
        "#     padded_alignments.set_shape((40,))  # Set the shape for padded alignments\n",
        "#     return frames, padded_alignments\n"
      ]
    },
    {
      "cell_type": "code",
      "execution_count": null,
      "metadata": {
        "id": "6y3fBszHcSMf"
      },
      "outputs": [],
      "source": [
        "def pad_alignments(alignments, max_length=40):\n",
        "    # Pad alignments to the max_length with a pad value of 0\n",
        "    paddings = [[0, max_length - tf.shape(alignments)[0]]]  # Pads to (max_length,)\n",
        "    padded_alignments = tf.pad(alignments, paddings, \"CONSTANT\", constant_values=0)\n",
        "    return padded_alignments\n",
        "\n",
        "def mappable_function(path: str):\n",
        "    frames, alignments = tf.py_function(load_data, [path], (tf.float32, tf.int64))\n",
        "\n",
        "    # Set the shape for frames\n",
        "    frames.set_shape((75, 46, 140, 1))\n",
        "\n",
        "    # Squeeze the alignments to remove extra dimensions (e.g., if shape is [26, 1], it becomes [26])\n",
        "    alignments = tf.squeeze(alignments)\n",
        "\n",
        "    # Reshape alignments to avoid dimensionality issues (flatten to 1-D)\n",
        "    alignments = tf.reshape(alignments, [-1])\n",
        "\n",
        "    # Pad alignments to a fixed length of 40\n",
        "    padded_alignments = pad_alignments(alignments, max_length=40)\n",
        "\n",
        "    # Set the shape of padded alignments to (40,)\n",
        "    padded_alignments.set_shape((40,))\n",
        "\n",
        "    return frames, padded_alignments\n",
        "\n"
      ]
    },
    {
      "cell_type": "code",
      "execution_count": null,
      "metadata": {
        "colab": {
          "base_uri": "https://localhost:8080/"
        },
        "id": "NkwNEHHrkY8h",
        "outputId": "6173d43f-525e-41ec-8212-711ab28155f8"
      },
      "outputs": [
        {
          "output_type": "stream",
          "name": "stdout",
          "text": [
            "Number of video files found: 600\n"
          ]
        }
      ],
      "source": [
        "data = tf.data.Dataset.list_files('./data3/s1/*.mpg')\n",
        "print(f\"Number of video files found: {len(data)}\")  # Should print 600 (this might not work directly)"
      ]
    },
    {
      "cell_type": "code",
      "execution_count": null,
      "metadata": {
        "id": "ebaLtB1hm7FJ"
      },
      "outputs": [],
      "source": [
        "data = tf.data.Dataset.list_files('./data3/s1/*.mpg')\n",
        "data = data.shuffle(300, reshuffle_each_iteration=True)\n",
        "data = data.map(mappable_function)\n",
        "data = data.padded_batch(2, padded_shapes=([75,46,140,1],[40]))\n",
        "# for batch in data.take(1):\n",
        "#     frames_batch, alignments_batch = batch\n",
        "#     print(f\"Batch shape: {frames_batch.shape}, Alignments shape: {alignments_batch.shape}\")  # Debugging line\n",
        "data = data.prefetch(tf.data.AUTOTUNE)\n",
        "# Added for split\n",
        "train = data.take(250)\n",
        "test = data.skip(250)"
      ]
    },
    {
      "cell_type": "code",
      "execution_count": null,
      "metadata": {
        "id": "hbipuie06_3k"
      },
      "outputs": [],
      "source": [
        "# import tensorflow as tf\n",
        "# from tensorflow.keras.utils import split_dataset\n",
        "\n",
        "# # Load the video files and shuffle\n",
        "# data = tf.data.Dataset.list_files('./data/s1/*.mpg')\n",
        "# data = data.shuffle(200, reshuffle_each_iteration=False)\n",
        "# data = data.map(mappable_function)\n",
        "\n",
        "# # Split the dataset into 70% train and 30% test\n",
        "# train_data, test_data = split_dataset(data, right_size=0.3)\n",
        "\n",
        "# # Apply batching and padding\n",
        "# train = train_data.padded_batch(4, padded_shapes=([75,46,140,1],[40]))\n",
        "# test = test_data.padded_batch(4, padded_shapes=([75,46,140,1],[40]))\n",
        "\n",
        "# # Prefetch for performance optimization\n",
        "# train = train.prefetch(tf.data.AUTOTUNE)\n",
        "# test = test.prefetch(tf.data.AUTOTUNE)\n"
      ]
    },
    {
      "cell_type": "code",
      "execution_count": null,
      "metadata": {
        "id": "DzRTJIeykloN"
      },
      "outputs": [],
      "source": [
        "# import tensorflow as tf\n",
        "\n",
        "# # Create dataset\n",
        "# data = tf.data.Dataset.list_files('./data/s1/*.mpg')\n",
        "# data = data.shuffle(600, reshuffle_each_iteration=False)\n",
        "# data = data.map(mappable_function)\n",
        "\n",
        "# # Split before batching\n",
        "# train = data.take(500)  # 500 for training\n",
        "# test = data.skip(500)   # 100 for testing\n",
        "\n",
        "# # Check sizes before batching\n",
        "# # print(\"Number of examples in training before batching:\", sum(1 for _ in train))\n",
        "# # print(\"Number of examples in testing before batching:\", sum(1 for _ in test))\n",
        "\n",
        "# # Apply padded_batch after splitting\n",
        "# train = train.padded_batch(2, padded_shapes=([75, 46, 140, 1], [40]))\n",
        "# test = test.padded_batch(2, padded_shapes=([75, 46, 140, 1], [40]))\n",
        "\n",
        "# # Prefetching\n",
        "# train = train.prefetch(tf.data.AUTOTUNE)\n",
        "# test = test.prefetch(tf.data.AUTOTUNE)\n",
        "\n",
        "# # Check sizes after batching\n",
        "# # print(\"Size of training set after batching:\", sum(1 for _ in train))\n",
        "# # print(\"Size of testing set after batching:\", sum(1 for _ in test))"
      ]
    },
    {
      "cell_type": "code",
      "execution_count": null,
      "metadata": {
        "colab": {
          "base_uri": "https://localhost:8080/"
        },
        "id": "iGDuYePk7Cws",
        "outputId": "b1df0674-1bc2-45d3-d361-d6884a02b6ab"
      },
      "outputs": [
        {
          "output_type": "execute_result",
          "data": {
            "text/plain": [
              "50"
            ]
          },
          "metadata": {},
          "execution_count": 28
        }
      ],
      "source": [
        "len(test)"
      ]
    },
    {
      "cell_type": "code",
      "execution_count": null,
      "metadata": {
        "colab": {
          "base_uri": "https://localhost:8080/"
        },
        "id": "Hf-3xbiPr3ur",
        "outputId": "d94deda0-f29f-4491-af0f-e4bf4fe8f435"
      },
      "outputs": [
        {
          "output_type": "execute_result",
          "data": {
            "text/plain": [
              "250"
            ]
          },
          "metadata": {},
          "execution_count": 29
        }
      ],
      "source": [
        "len(train)"
      ]
    },
    {
      "cell_type": "code",
      "execution_count": null,
      "metadata": {
        "id": "bJu8hmo-DhmQ"
      },
      "outputs": [],
      "source": [
        "# # Assuming train and test are datasets yielding (inputs, labels) tuples\n",
        "# for x, y in train.take(1):  # Take one batch from the training dataset\n",
        "#     print(f\"Train input shape: {x.shape}, Train label shape: {y.shape}\")\n",
        "\n",
        "# for x, y in test.take(1):  # Take one batch from the testing dataset\n",
        "#     print(f\"Test input shape: {x.shape}, Test label shape: {y.shape}\")\n",
        "\n"
      ]
    },
    {
      "cell_type": "code",
      "execution_count": null,
      "metadata": {
        "id": "q3Y2jI9l7EwE"
      },
      "outputs": [],
      "source": [
        "# print(f\"Shape of frames before batching: {[frame.shape for frame in frames]}\")"
      ]
    },
    {
      "cell_type": "code",
      "execution_count": null,
      "metadata": {
        "id": "679Xsg0E7IDk"
      },
      "outputs": [],
      "source": [
        "frames, alignments = data.as_numpy_iterator().next()"
      ]
    },
    {
      "cell_type": "code",
      "execution_count": null,
      "metadata": {
        "colab": {
          "base_uri": "https://localhost:8080/"
        },
        "id": "rm-UT90aiHjn",
        "outputId": "b0b844ec-7fca-4543-d7a9-b78f6491b37d"
      },
      "outputs": [
        {
          "output_type": "execute_result",
          "data": {
            "text/plain": [
              "2"
            ]
          },
          "metadata": {},
          "execution_count": 33
        }
      ],
      "source": [
        "len(frames)"
      ]
    },
    {
      "cell_type": "code",
      "execution_count": null,
      "metadata": {
        "colab": {
          "base_uri": "https://localhost:8080/"
        },
        "id": "el_lMPuT7J8l",
        "outputId": "aae5c1e9-2288-4a23-d808-df54a6d7e44f"
      },
      "outputs": [
        {
          "output_type": "stream",
          "name": "stdout",
          "text": [
            "Shape of frames: (2, 75, 46, 140, 1)\n"
          ]
        }
      ],
      "source": [
        "print(\"Shape of frames:\", frames.shape)"
      ]
    },
    {
      "cell_type": "code",
      "execution_count": null,
      "metadata": {
        "id": "f20z7Vx57Kis"
      },
      "outputs": [],
      "source": [
        "# import imageio\n",
        "\n",
        "# import numpy as np\n",
        "\n",
        "# # Assume frames are obtained from your dataset\n",
        "# sample = data.as_numpy_iterator()\n",
        "# val = sample.next(); val[0]\n",
        "# # frames = val[0][0]  # Extracting frames\n",
        "\n",
        "# # # Add this line to check the shape of the frames tensor\n",
        "# # print(\"Shape before reshaping:\", frames.shape)\n",
        "\n",
        "# # # Reshape to combine the batch and frames\n",
        "# # # reshaped_frames = frames.reshape(-1, 41, 120)  # Combine the batch and frames into one dimension\n",
        "\n",
        "# # # Reshape only if the number of elements matches\n",
        "# # if frames.shape[0] * frames.shape[1] * frames.shape[2] * frames.shape[3] == 483000:\n",
        "# #     reshaped_frames = frames.reshape(-1, 46, 140)\n",
        "# # else:\n",
        "# #     raise ValueError(f\"Unexpected shape: {frames.shape}, unable to reshape.\")\n",
        "\n",
        "\n",
        "\n",
        "# # # Check and convert the frames to a suitable format\n",
        "# # reshaped_frames = (reshaped_frames * 255).astype(np.uint8)  # Normalize to 0-255 if needed\n",
        "\n",
        "# # Save the frames as a GIF\n",
        "# frames = val[0][0]  # Get the first batch of frames\n",
        "\n",
        "# # Reshape and convert to uint8\n",
        "# reshaped_frames = frames[0]  # Get the first video\n",
        "# reshaped_frames = np.squeeze(reshaped_frames)  # Remove channel dimension\n",
        "# reshaped_frames = (reshaped_frames * 255).astype(np.uint8)  # Normalize to 0-255\n",
        "# reshaped_frames = reshaped_frames.reshape(-1, 46, 140)  # Ensure shape is correct\n",
        "\n",
        "# # Save the frames as a GIF\n",
        "# imageio.mimsave('./animation.gif', reshaped_frames, fps=10)"
      ]
    },
    {
      "cell_type": "code",
      "execution_count": null,
      "metadata": {
        "colab": {
          "base_uri": "https://localhost:8080/"
        },
        "id": "fGogTvi2jFM3",
        "outputId": "584547c8-35bd-439f-ac64-cca1fa062157"
      },
      "outputs": [
        {
          "output_type": "stream",
          "name": "stdout",
          "text": [
            "Shape of frames: (2, 75, 46, 140, 1)\n",
            "Shape of video 0 frames: (75, 46, 140, 1)\n",
            "Shape after squeezing: (75, 46, 140)\n",
            "Shape of video 1 frames: (75, 46, 140, 1)\n",
            "Shape after squeezing: (75, 46, 140)\n",
            "GIFs saved successfully!\n"
          ]
        }
      ],
      "source": [
        "import imageio\n",
        "import numpy as np\n",
        "\n",
        "# Assume frames are obtained from your dataset\n",
        "sample = data.as_numpy_iterator()\n",
        "val = sample.next()\n",
        "frames, alignments = sample.next()  # Get frames and alignments\n",
        "\n",
        "print(\"Shape of frames:\", frames.shape)  # Should print (2, 75, 46, 140, 1)\n",
        "\n",
        "# Iterate through each video in the batch\n",
        "for video_idx in range(frames.shape[0]):\n",
        "    video_frames = frames[video_idx]  # Extract frames for the current video\n",
        "    print(f\"Shape of video {video_idx} frames:\", video_frames.shape)  # Should print (75, 46, 140, 1)\n",
        "\n",
        "    # Squeeze to remove the last dimension (channel), so frames have shape (75, 46, 140)\n",
        "    reshaped_frames = np.squeeze(video_frames, axis=-1)  # Shape becomes (75, 46, 140)\n",
        "    print(\"Shape after squeezing:\", reshaped_frames.shape)  # Should print (75, 46, 140)\n",
        "\n",
        "    # Normalize to 0-255 if needed for image representation\n",
        "    reshaped_frames = (reshaped_frames * 255).astype(np.uint8)\n",
        "\n",
        "    # Create a list of frames (2D images) for the GIF\n",
        "    frames_list = [reshaped_frames[i] for i in range(reshaped_frames.shape[0])]\n",
        "\n",
        "    # Save the frames as a GIF\n",
        "    imageio.mimsave(f'./animation_video_{video_idx}.gif', frames_list, fps=10)\n",
        "\n",
        "print(\"GIFs saved successfully!\")\n"
      ]
    },
    {
      "cell_type": "code",
      "execution_count": null,
      "metadata": {
        "id": "Gy03ScXneIUc"
      },
      "outputs": [],
      "source": [
        "# import imageio\n",
        "# import numpy as np\n",
        "\n",
        "# # Assume frames are obtained from your dataset\n",
        "# sample = data.as_numpy_iterator()\n",
        "# val = sample.next()\n",
        "# frames = val[0]  # Extract the frames from the batch\n",
        "\n",
        "# # The shape of frames is (75, 46, 140, 1), 75 frames of size 46x140 with 1 channel\n",
        "# print(\"Original shape of frames:\", frames.shape)  # Should print (75, 46, 140, 1)\n",
        "\n",
        "# # Squeeze to remove the last dimension (channel), so frames have shape (75, 46, 140)\n",
        "# reshaped_frames = np.squeeze(frames, axis=-1)  # Remove the last channel dimension\n",
        "# print(\"Shape after squeezing:\", reshaped_frames.shape)  # Should print (75, 46, 140)\n",
        "\n",
        "# # Ensure values are normalized for proper image representation (scale to 0-255)\n",
        "# reshaped_frames = (reshaped_frames * 255).astype(np.uint8)\n",
        "\n",
        "# # Check shape of the first individual frame to confirm it's (46, 140)\n",
        "# print(\"Shape of the first individual frame:\", reshaped_frames[0].shape)  # Should print (46, 140)\n",
        "\n",
        "# # Create a list of frames (2D images) for the GIF\n",
        "# frames_list = [reshaped_frames[i] for i in range(reshaped_frames.shape[0])]\n",
        "\n",
        "# # Save the frames as a GIF\n",
        "# imageio.mimsave('./animation2.gif', frames_list, fps=10)\n",
        "\n",
        "# print(\"GIF saved successfully!\")\n",
        "\n",
        "\n"
      ]
    },
    {
      "cell_type": "code",
      "execution_count": null,
      "metadata": {
        "id": "Dc3LfZpbpoB9"
      },
      "outputs": [],
      "source": [
        "# import imageio\n",
        "# import numpy as np\n",
        "\n",
        "# # Assume frames are obtained from your dataset\n",
        "# sample = data.as_numpy_iterator()\n",
        "# val = sample.next()  # Getting the next batch of frames\n",
        "\n",
        "# # Extracting frames\n",
        "# frames = val[0][0]  # Get the first batch of frames\n",
        "\n",
        "# # Check shape of frames\n",
        "# print(\"Shape of frames:\", frames.shape)  # Should be (75, 46, 140, 1)\n",
        "\n",
        "# # Squeeze the last dimension (channel dimension) if needed\n",
        "# reshaped_frames = np.squeeze(frames)  # Now shape will be (75, 46, 140)\n",
        "\n",
        "# # Ensure shape is correct for saving as GIF\n",
        "# # Here, we flatten the first dimension (75 frames)\n",
        "# reshaped_frames = reshaped_frames.reshape(-1, 46, 140)  # This should work as it will be (75, 46, 140)\n",
        "\n",
        "# # Normalize to 0-255\n",
        "# reshaped_frames = (reshaped_frames * 255).astype(np.uint8)\n",
        "\n",
        "# # Save the frames as a GIF\n",
        "# imageio.mimsave('./animation.gif', reshaped_frames, fps=10)\n"
      ]
    },
    {
      "cell_type": "code",
      "execution_count": null,
      "metadata": {
        "colab": {
          "base_uri": "https://localhost:8080/",
          "height": 245
        },
        "id": "re4Edpq47N31",
        "outputId": "bc4643c0-7f4b-4541-f196-4c8c07093223"
      },
      "outputs": [
        {
          "output_type": "execute_result",
          "data": {
            "text/plain": [
              "<matplotlib.image.AxesImage at 0x7b95ad3f40a0>"
            ]
          },
          "metadata": {},
          "execution_count": 39
        },
        {
          "output_type": "display_data",
          "data": {
            "text/plain": [
              "<Figure size 640x480 with 1 Axes>"
            ],
            "image/png": "[encoded data removed]"
          },
          "metadata": {}
        }
      ],
      "source": [
        "# 0:videos, 0: 1st video out of the batch,  0: return the first frame in the video\n",
        "plt.imshow(val[0][0][13])"
      ]
    },
    {
      "cell_type": "code",
      "execution_count": null,
      "metadata": {
        "colab": {
          "base_uri": "https://localhost:8080/"
        },
        "id": "YwgBQyWM7QIl",
        "outputId": "e44310bf-d1a7-4154-bd60-40d123059f94"
      },
      "outputs": [
        {
          "output_type": "execute_result",
          "data": {
            "text/plain": [
              "<tf.Tensor: shape=(), dtype=string, numpy=b'bin blue by e two now'>"
            ]
          },
          "metadata": {},
          "execution_count": 40
        }
      ],
      "source": [
        "tf.strings.reduce_join([num_to_char(word) for word in val[1][0]])"
      ]
    },
    {
      "cell_type": "markdown",
      "metadata": {
        "id": "AytudtWJ8VuM"
      },
      "source": [
        "Deep Neural Network"
      ]
    },
    {
      "cell_type": "code",
      "execution_count": null,
      "metadata": {
        "colab": {
          "base_uri": "https://localhost:8080/"
        },
        "id": "PBr7ceJs7Tsf",
        "outputId": "805f6f15-3268-4d86-cb7f-e79cb5b1fcb5"
      },
      "outputs": [
        {
          "output_type": "execute_result",
          "data": {
            "text/plain": [
              "(75, 46, 140, 1)"
            ]
          },
          "metadata": {},
          "execution_count": 41
        }
      ],
      "source": [
        "data.as_numpy_iterator().next()[0][0].shape"
      ]
    },
    {
      "cell_type": "code",
      "execution_count": null,
      "metadata": {
        "colab": {
          "base_uri": "https://localhost:8080/",
          "height": 736
        },
        "id": "tDWcnmss7XZt",
        "outputId": "d48dcff8-0eb9-4b3d-dced-0439a18cf2ac"
      },
      "outputs": [
        {
          "output_type": "stream",
          "name": "stderr",
          "text": [
            "/usr/local/lib/python3.10/dist-packages/keras/src/layers/convolutional/base_conv.py:107: UserWarning: Do not pass an `input_shape`/`input_dim` argument to a layer. When using Sequential models, prefer using an `Input(shape)` object as the first layer in the model instead.\n",
            "  super().__init__(activity_regularizer=activity_regularizer, **kwargs)\n"
          ]
        },
        {
          "output_type": "display_data",
          "data": {
            "text/plain": [
              "\u001b[1mModel: \"sequential\"\u001b[0m\n"
            ],
            "text/html": [
              "<pre style=\"white-space:pre;overflow-x:auto;line-height:normal;font-family:Menlo,'DejaVu Sans Mono',consolas,'Courier New',monospace\"><span style=\"font-weight: bold\">Model: \"sequential\"</span>\n",
              "</pre>\n"
            ]
          },
          "metadata": {}
        },
        {
          "output_type": "display_data",
          "data": {
            "text/plain": [
              "┏━━━━━━━━━━━━━━━━━━━━━━━━━━━━━━━━━━━━━━┳━━━━━━━━━━━━━━━━━━━━━━━━━━━━━┳━━━━━━━━━━━━━━━━━┓\n",
              "┃\u001b[1m \u001b[0m\u001b[1mLayer (type)                        \u001b[0m\u001b[1m \u001b[0m┃\u001b[1m \u001b[0m\u001b[1mOutput Shape               \u001b[0m\u001b[1m \u001b[0m┃\u001b[1m \u001b[0m\u001b[1m        Param #\u001b[0m\u001b[1m \u001b[0m┃\n",
              "┡━━━━━━━━━━━━━━━━━━━━━━━━━━━━━━━━━━━━━━╇━━━━━━━━━━━━━━━━━━━━━━━━━━━━━╇━━━━━━━━━━━━━━━━━┩\n",
              "│ conv3d (\u001b[38;5;33mConv3D\u001b[0m)                      │ (\u001b[38;5;45mNone\u001b[0m, \u001b[38;5;34m75\u001b[0m, \u001b[38;5;34m46\u001b[0m, \u001b[38;5;34m140\u001b[0m, \u001b[38;5;34m128\u001b[0m)    │           \u001b[38;5;34m3,584\u001b[0m │\n",
              "├──────────────────────────────────────┼─────────────────────────────┼─────────────────┤\n",
              "│ activation (\u001b[38;5;33mActivation\u001b[0m)              │ (\u001b[38;5;45mNone\u001b[0m, \u001b[38;5;34m75\u001b[0m, \u001b[38;5;34m46\u001b[0m, \u001b[38;5;34m140\u001b[0m, \u001b[38;5;34m128\u001b[0m)    │               \u001b[38;5;34m0\u001b[0m │\n",
              "├──────────────────────────────────────┼─────────────────────────────┼─────────────────┤\n",
              "│ max_pooling3d (\u001b[38;5;33mMaxPooling3D\u001b[0m)         │ (\u001b[38;5;45mNone\u001b[0m, \u001b[38;5;34m75\u001b[0m, \u001b[38;5;34m23\u001b[0m, \u001b[38;5;34m70\u001b[0m, \u001b[38;5;34m128\u001b[0m)     │               \u001b[38;5;34m0\u001b[0m │\n",
              "├──────────────────────────────────────┼─────────────────────────────┼─────────────────┤\n",
              "│ conv3d_1 (\u001b[38;5;33mConv3D\u001b[0m)                    │ (\u001b[38;5;45mNone\u001b[0m, \u001b[38;5;34m75\u001b[0m, \u001b[38;5;34m23\u001b[0m, \u001b[38;5;34m70\u001b[0m, \u001b[38;5;34m256\u001b[0m)     │         \u001b[38;5;34m884,992\u001b[0m │\n",
              "├──────────────────────────────────────┼─────────────────────────────┼─────────────────┤\n",
              "│ activation_1 (\u001b[38;5;33mActivation\u001b[0m)            │ (\u001b[38;5;45mNone\u001b[0m, \u001b[38;5;34m75\u001b[0m, \u001b[38;5;34m23\u001b[0m, \u001b[38;5;34m70\u001b[0m, \u001b[38;5;34m256\u001b[0m)     │               \u001b[38;5;34m0\u001b[0m │\n",
              "├──────────────────────────────────────┼─────────────────────────────┼─────────────────┤\n",
              "│ max_pooling3d_1 (\u001b[38;5;33mMaxPooling3D\u001b[0m)       │ (\u001b[38;5;45mNone\u001b[0m, \u001b[38;5;34m75\u001b[0m, \u001b[38;5;34m11\u001b[0m, \u001b[38;5;34m35\u001b[0m, \u001b[38;5;34m256\u001b[0m)     │               \u001b[38;5;34m0\u001b[0m │\n",
              "├──────────────────────────────────────┼─────────────────────────────┼─────────────────┤\n",
              "│ conv3d_2 (\u001b[38;5;33mConv3D\u001b[0m)                    │ (\u001b[38;5;45mNone\u001b[0m, \u001b[38;5;34m75\u001b[0m, \u001b[38;5;34m11\u001b[0m, \u001b[38;5;34m35\u001b[0m, \u001b[38;5;34m75\u001b[0m)      │         \u001b[38;5;34m518,475\u001b[0m │\n",
              "├──────────────────────────────────────┼─────────────────────────────┼─────────────────┤\n",
              "│ activation_2 (\u001b[38;5;33mActivation\u001b[0m)            │ (\u001b[38;5;45mNone\u001b[0m, \u001b[38;5;34m75\u001b[0m, \u001b[38;5;34m11\u001b[0m, \u001b[38;5;34m35\u001b[0m, \u001b[38;5;34m75\u001b[0m)      │               \u001b[38;5;34m0\u001b[0m │\n",
              "├──────────────────────────────────────┼─────────────────────────────┼─────────────────┤\n",
              "│ max_pooling3d_2 (\u001b[38;5;33mMaxPooling3D\u001b[0m)       │ (\u001b[38;5;45mNone\u001b[0m, \u001b[38;5;34m75\u001b[0m, \u001b[38;5;34m5\u001b[0m, \u001b[38;5;34m17\u001b[0m, \u001b[38;5;34m75\u001b[0m)       │               \u001b[38;5;34m0\u001b[0m │\n",
              "├──────────────────────────────────────┼─────────────────────────────┼─────────────────┤\n",
              "│ time_distributed (\u001b[38;5;33mTimeDistributed\u001b[0m)   │ (\u001b[38;5;45mNone\u001b[0m, \u001b[38;5;34m75\u001b[0m, \u001b[38;5;34m6375\u001b[0m)            │               \u001b[38;5;34m0\u001b[0m │\n",
              "├──────────────────────────────────────┼─────────────────────────────┼─────────────────┤\n",
              "│ reshape (\u001b[38;5;33mReshape\u001b[0m)                    │ (\u001b[38;5;45mNone\u001b[0m, \u001b[38;5;34m75\u001b[0m, \u001b[38;5;34m6375\u001b[0m)            │               \u001b[38;5;34m0\u001b[0m │\n",
              "├──────────────────────────────────────┼─────────────────────────────┼─────────────────┤\n",
              "│ bidirectional (\u001b[38;5;33mBidirectional\u001b[0m)        │ (\u001b[38;5;45mNone\u001b[0m, \u001b[38;5;34m75\u001b[0m, \u001b[38;5;34m128\u001b[0m)             │       \u001b[38;5;34m3,297,280\u001b[0m │\n",
              "├──────────────────────────────────────┼─────────────────────────────┼─────────────────┤\n",
              "│ dropout (\u001b[38;5;33mDropout\u001b[0m)                    │ (\u001b[38;5;45mNone\u001b[0m, \u001b[38;5;34m75\u001b[0m, \u001b[38;5;34m128\u001b[0m)             │               \u001b[38;5;34m0\u001b[0m │\n",
              "├──────────────────────────────────────┼─────────────────────────────┼─────────────────┤\n",
              "│ bidirectional_1 (\u001b[38;5;33mBidirectional\u001b[0m)      │ (\u001b[38;5;45mNone\u001b[0m, \u001b[38;5;34m75\u001b[0m, \u001b[38;5;34m128\u001b[0m)             │          \u001b[38;5;34m98,816\u001b[0m │\n",
              "├──────────────────────────────────────┼─────────────────────────────┼─────────────────┤\n",
              "│ dropout_1 (\u001b[38;5;33mDropout\u001b[0m)                  │ (\u001b[38;5;45mNone\u001b[0m, \u001b[38;5;34m75\u001b[0m, \u001b[38;5;34m128\u001b[0m)             │               \u001b[38;5;34m0\u001b[0m │\n",
              "├──────────────────────────────────────┼─────────────────────────────┼─────────────────┤\n",
              "│ dense (\u001b[38;5;33mDense\u001b[0m)                        │ (\u001b[38;5;45mNone\u001b[0m, \u001b[38;5;34m75\u001b[0m, \u001b[38;5;34m41\u001b[0m)              │           \u001b[38;5;34m5,289\u001b[0m │\n",
              "└──────────────────────────────────────┴─────────────────────────────┴─────────────────┘\n"
            ],
            "text/html": [
              "<pre style=\"white-space:pre;overflow-x:auto;line-height:normal;font-family:Menlo,'DejaVu Sans Mono',consolas,'Courier New',monospace\">┏━━━━━━━━━━━━━━━━━━━━━━━━━━━━━━━━━━━━━━┳━━━━━━━━━━━━━━━━━━━━━━━━━━━━━┳━━━━━━━━━━━━━━━━━┓\n",
              "┃<span style=\"font-weight: bold\"> Layer (type)                         </span>┃<span style=\"font-weight: bold\"> Output Shape                </span>┃<span style=\"font-weight: bold\">         Param # </span>┃\n",
              "┡━━━━━━━━━━━━━━━━━━━━━━━━━━━━━━━━━━━━━━╇━━━━━━━━━━━━━━━━━━━━━━━━━━━━━╇━━━━━━━━━━━━━━━━━┩\n",
              "│ conv3d (<span style=\"color: #0087ff; text-decoration-color: #0087ff\">Conv3D</span>)                      │ (<span style=\"color: #00d7ff; text-decoration-color: #00d7ff\">None</span>, <span style=\"color: #00af00; text-decoration-color: #00af00\">75</span>, <span style=\"color: #00af00; text-decoration-color: #00af00\">46</span>, <span style=\"color: #00af00; text-decoration-color: #00af00\">140</span>, <span style=\"color: #00af00; text-decoration-color: #00af00\">128</span>)    │           <span style=\"color: #00af00; text-decoration-color: #00af00\">3,584</span> │\n",
              "├──────────────────────────────────────┼─────────────────────────────┼─────────────────┤\n",
              "│ activation (<span style=\"color: #0087ff; text-decoration-color: #0087ff\">Activation</span>)              │ (<span style=\"color: #00d7ff; text-decoration-color: #00d7ff\">None</span>, <span style=\"color: #00af00; text-decoration-color: #00af00\">75</span>, <span style=\"color: #00af00; text-decoration-color: #00af00\">46</span>, <span style=\"color: #00af00; text-decoration-color: #00af00\">140</span>, <span style=\"color: #00af00; text-decoration-color: #00af00\">128</span>)    │               <span style=\"color: #00af00; text-decoration-color: #00af00\">0</span> │\n",
              "├──────────────────────────────────────┼─────────────────────────────┼─────────────────┤\n",
              "│ max_pooling3d (<span style=\"color: #0087ff; text-decoration-color: #0087ff\">MaxPooling3D</span>)         │ (<span style=\"color: #00d7ff; text-decoration-color: #00d7ff\">None</span>, <span style=\"color: #00af00; text-decoration-color: #00af00\">75</span>, <span style=\"color: #00af00; text-decoration-color: #00af00\">23</span>, <span style=\"color: #00af00; text-decoration-color: #00af00\">70</span>, <span style=\"color: #00af00; text-decoration-color: #00af00\">128</span>)     │               <span style=\"color: #00af00; text-decoration-color: #00af00\">0</span> │\n",
              "├──────────────────────────────────────┼─────────────────────────────┼─────────────────┤\n",
              "│ conv3d_1 (<span style=\"color: #0087ff; text-decoration-color: #0087ff\">Conv3D</span>)                    │ (<span style=\"color: #00d7ff; text-decoration-color: #00d7ff\">None</span>, <span style=\"color: #00af00; text-decoration-color: #00af00\">75</span>, <span style=\"color: #00af00; text-decoration-color: #00af00\">23</span>, <span style=\"color: #00af00; text-decoration-color: #00af00\">70</span>, <span style=\"color: #00af00; text-decoration-color: #00af00\">256</span>)     │         <span style=\"color: #00af00; text-decoration-color: #00af00\">884,992</span> │\n",
              "├──────────────────────────────────────┼─────────────────────────────┼─────────────────┤\n",
              "│ activation_1 (<span style=\"color: #0087ff; text-decoration-color: #0087ff\">Activation</span>)            │ (<span style=\"color: #00d7ff; text-decoration-color: #00d7ff\">None</span>, <span style=\"color: #00af00; text-decoration-color: #00af00\">75</span>, <span style=\"color: #00af00; text-decoration-color: #00af00\">23</span>, <span style=\"color: #00af00; text-decoration-color: #00af00\">70</span>, <span style=\"color: #00af00; text-decoration-color: #00af00\">256</span>)     │               <span style=\"color: #00af00; text-decoration-color: #00af00\">0</span> │\n",
              "├──────────────────────────────────────┼─────────────────────────────┼─────────────────┤\n",
              "│ max_pooling3d_1 (<span style=\"color: #0087ff; text-decoration-color: #0087ff\">MaxPooling3D</span>)       │ (<span style=\"color: #00d7ff; text-decoration-color: #00d7ff\">None</span>, <span style=\"color: #00af00; text-decoration-color: #00af00\">75</span>, <span style=\"color: #00af00; text-decoration-color: #00af00\">11</span>, <span style=\"color: #00af00; text-decoration-color: #00af00\">35</span>, <span style=\"color: #00af00; text-decoration-color: #00af00\">256</span>)     │               <span style=\"color: #00af00; text-decoration-color: #00af00\">0</span> │\n",
              "├──────────────────────────────────────┼─────────────────────────────┼─────────────────┤\n",
              "│ conv3d_2 (<span style=\"color: #0087ff; text-decoration-color: #0087ff\">Conv3D</span>)                    │ (<span style=\"color: #00d7ff; text-decoration-color: #00d7ff\">None</span>, <span style=\"color: #00af00; text-decoration-color: #00af00\">75</span>, <span style=\"color: #00af00; text-decoration-color: #00af00\">11</span>, <span style=\"color: #00af00; text-decoration-color: #00af00\">35</span>, <span style=\"color: #00af00; text-decoration-color: #00af00\">75</span>)      │         <span style=\"color: #00af00; text-decoration-color: #00af00\">518,475</span> │\n",
              "├──────────────────────────────────────┼─────────────────────────────┼─────────────────┤\n",
              "│ activation_2 (<span style=\"color: #0087ff; text-decoration-color: #0087ff\">Activation</span>)            │ (<span style=\"color: #00d7ff; text-decoration-color: #00d7ff\">None</span>, <span style=\"color: #00af00; text-decoration-color: #00af00\">75</span>, <span style=\"color: #00af00; text-decoration-color: #00af00\">11</span>, <span style=\"color: #00af00; text-decoration-color: #00af00\">35</span>, <span style=\"color: #00af00; text-decoration-color: #00af00\">75</span>)      │               <span style=\"color: #00af00; text-decoration-color: #00af00\">0</span> │\n",
              "├──────────────────────────────────────┼─────────────────────────────┼─────────────────┤\n",
              "│ max_pooling3d_2 (<span style=\"color: #0087ff; text-decoration-color: #0087ff\">MaxPooling3D</span>)       │ (<span style=\"color: #00d7ff; text-decoration-color: #00d7ff\">None</span>, <span style=\"color: #00af00; text-decoration-color: #00af00\">75</span>, <span style=\"color: #00af00; text-decoration-color: #00af00\">5</span>, <span style=\"color: #00af00; text-decoration-color: #00af00\">17</span>, <span style=\"color: #00af00; text-decoration-color: #00af00\">75</span>)       │               <span style=\"color: #00af00; text-decoration-color: #00af00\">0</span> │\n",
              "├──────────────────────────────────────┼─────────────────────────────┼─────────────────┤\n",
              "│ time_distributed (<span style=\"color: #0087ff; text-decoration-color: #0087ff\">TimeDistributed</span>)   │ (<span style=\"color: #00d7ff; text-decoration-color: #00d7ff\">None</span>, <span style=\"color: #00af00; text-decoration-color: #00af00\">75</span>, <span style=\"color: #00af00; text-decoration-color: #00af00\">6375</span>)            │               <span style=\"color: #00af00; text-decoration-color: #00af00\">0</span> │\n",
              "├──────────────────────────────────────┼─────────────────────────────┼─────────────────┤\n",
              "│ reshape (<span style=\"color: #0087ff; text-decoration-color: #0087ff\">Reshape</span>)                    │ (<span style=\"color: #00d7ff; text-decoration-color: #00d7ff\">None</span>, <span style=\"color: #00af00; text-decoration-color: #00af00\">75</span>, <span style=\"color: #00af00; text-decoration-color: #00af00\">6375</span>)            │               <span style=\"color: #00af00; text-decoration-color: #00af00\">0</span> │\n",
              "├──────────────────────────────────────┼─────────────────────────────┼─────────────────┤\n",
              "│ bidirectional (<span style=\"color: #0087ff; text-decoration-color: #0087ff\">Bidirectional</span>)        │ (<span style=\"color: #00d7ff; text-decoration-color: #00d7ff\">None</span>, <span style=\"color: #00af00; text-decoration-color: #00af00\">75</span>, <span style=\"color: #00af00; text-decoration-color: #00af00\">128</span>)             │       <span style=\"color: #00af00; text-decoration-color: #00af00\">3,297,280</span> │\n",
              "├──────────────────────────────────────┼─────────────────────────────┼─────────────────┤\n",
              "│ dropout (<span style=\"color: #0087ff; text-decoration-color: #0087ff\">Dropout</span>)                    │ (<span style=\"color: #00d7ff; text-decoration-color: #00d7ff\">None</span>, <span style=\"color: #00af00; text-decoration-color: #00af00\">75</span>, <span style=\"color: #00af00; text-decoration-color: #00af00\">128</span>)             │               <span style=\"color: #00af00; text-decoration-color: #00af00\">0</span> │\n",
              "├──────────────────────────────────────┼─────────────────────────────┼─────────────────┤\n",
              "│ bidirectional_1 (<span style=\"color: #0087ff; text-decoration-color: #0087ff\">Bidirectional</span>)      │ (<span style=\"color: #00d7ff; text-decoration-color: #00d7ff\">None</span>, <span style=\"color: #00af00; text-decoration-color: #00af00\">75</span>, <span style=\"color: #00af00; text-decoration-color: #00af00\">128</span>)             │          <span style=\"color: #00af00; text-decoration-color: #00af00\">98,816</span> │\n",
              "├──────────────────────────────────────┼─────────────────────────────┼─────────────────┤\n",
              "│ dropout_1 (<span style=\"color: #0087ff; text-decoration-color: #0087ff\">Dropout</span>)                  │ (<span style=\"color: #00d7ff; text-decoration-color: #00d7ff\">None</span>, <span style=\"color: #00af00; text-decoration-color: #00af00\">75</span>, <span style=\"color: #00af00; text-decoration-color: #00af00\">128</span>)             │               <span style=\"color: #00af00; text-decoration-color: #00af00\">0</span> │\n",
              "├──────────────────────────────────────┼─────────────────────────────┼─────────────────┤\n",
              "│ dense (<span style=\"color: #0087ff; text-decoration-color: #0087ff\">Dense</span>)                        │ (<span style=\"color: #00d7ff; text-decoration-color: #00d7ff\">None</span>, <span style=\"color: #00af00; text-decoration-color: #00af00\">75</span>, <span style=\"color: #00af00; text-decoration-color: #00af00\">41</span>)              │           <span style=\"color: #00af00; text-decoration-color: #00af00\">5,289</span> │\n",
              "└──────────────────────────────────────┴─────────────────────────────┴─────────────────┘\n",
              "</pre>\n"
            ]
          },
          "metadata": {}
        },
        {
          "output_type": "display_data",
          "data": {
            "text/plain": [
              "\u001b[1m Total params: \u001b[0m\u001b[38;5;34m4,808,436\u001b[0m (18.34 MB)\n"
            ],
            "text/html": [
              "<pre style=\"white-space:pre;overflow-x:auto;line-height:normal;font-family:Menlo,'DejaVu Sans Mono',consolas,'Courier New',monospace\"><span style=\"font-weight: bold\"> Total params: </span><span style=\"color: #00af00; text-decoration-color: #00af00\">4,808,436</span> (18.34 MB)\n",
              "</pre>\n"
            ]
          },
          "metadata": {}
        },
        {
          "output_type": "display_data",
          "data": {
            "text/plain": [
              "\u001b[1m Trainable params: \u001b[0m\u001b[38;5;34m4,808,436\u001b[0m (18.34 MB)\n"
            ],
            "text/html": [
              "<pre style=\"white-space:pre;overflow-x:auto;line-height:normal;font-family:Menlo,'DejaVu Sans Mono',consolas,'Courier New',monospace\"><span style=\"font-weight: bold\"> Trainable params: </span><span style=\"color: #00af00; text-decoration-color: #00af00\">4,808,436</span> (18.34 MB)\n",
              "</pre>\n"
            ]
          },
          "metadata": {}
        },
        {
          "output_type": "display_data",
          "data": {
            "text/plain": [
              "\u001b[1m Non-trainable params: \u001b[0m\u001b[38;5;34m0\u001b[0m (0.00 B)\n"
            ],
            "text/html": [
              "<pre style=\"white-space:pre;overflow-x:auto;line-height:normal;font-family:Menlo,'DejaVu Sans Mono',consolas,'Courier New',monospace\"><span style=\"font-weight: bold\"> Non-trainable params: </span><span style=\"color: #00af00; text-decoration-color: #00af00\">0</span> (0.00 B)\n",
              "</pre>\n"
            ]
          },
          "metadata": {}
        }
      ],
      "source": [
        "import tensorflow as tf\n",
        "from tensorflow.keras.models import Sequential\n",
        "from tensorflow.keras.layers import Conv3D, LSTM, Dense, Dropout, Bidirectional, MaxPool3D, Activation, Reshape, SpatialDropout3D, BatchNormalization, TimeDistributed, Flatten\n",
        "from tensorflow.keras.optimizers import Adam\n",
        "from tensorflow.keras.callbacks import ModelCheckpoint, LearningRateScheduler\n",
        "from tensorflow.keras.callbacks import EarlyStopping\n",
        "\n",
        "\n",
        "model = Sequential()\n",
        "\n",
        "# Convolutional layers\n",
        "model.add(Conv3D(128, 3, input_shape=(75, 46, 140,1), padding='same'))\n",
        "model.add(Activation('relu'))\n",
        "model.add(MaxPool3D((1, 2, 2)))\n",
        "\n",
        "model.add(Conv3D(256, 3, padding='same'))\n",
        "model.add(Activation('relu'))\n",
        "model.add(MaxPool3D((1, 2, 2)))\n",
        "\n",
        "model.add(Conv3D(75, 3, padding='same'))\n",
        "model.add(Activation('relu'))\n",
        "model.add(MaxPool3D((1, 2, 2)))\n",
        "\n",
        "# Flatten the output of the convolutional layers for LSTM input\n",
        "# Flatten and reshape\n",
        "model.add(TimeDistributed(Flatten()))  # Output shape will be (None, 75, 11*35*75)\n",
        "\n",
        "# Reshape to (batch_size, timesteps, features)\n",
        "model.add(Reshape((75, 6375)))\n",
        "\n",
        "\n",
        "\n",
        "# No additional reshape needed; the output shape will be (None, 75, 6375)\n",
        "# Proceed directly to LSTM layers\n",
        "model.add(Bidirectional(LSTM(64, kernel_initializer='Orthogonal', return_sequences=True)))\n",
        "model.add(Dropout(0.5))\n",
        "\n",
        "model.add(Bidirectional(LSTM(64, kernel_initializer='Orthogonal', return_sequences=True)))\n",
        "model.add(Dropout(0.5))\n",
        "\n",
        "# Output layer\n",
        "model.add(Dense(char_to_num.vocabulary_size() + 1, kernel_initializer='he_normal', activation='softmax'))\n",
        "\n",
        "\n",
        "\n",
        "# Optionally print the model summary\n",
        "model.summary()\n"
      ]
    },
    {
      "cell_type": "code",
      "execution_count": null,
      "metadata": {
        "id": "reYZTicl7ZWU"
      },
      "outputs": [],
      "source": [
        "# Originallllll not need to runnnnnnnnnnnnnnnnnnnnnnnnnnnnnnnnnnnnnnn\n",
        "# model = Sequential()\n",
        "# model.add(Conv3D(128, 3, input_shape=(75,46,140,1), padding='same'))\n",
        "# model.add(Activation('relu'))\n",
        "# model.add(MaxPool3D((1,2,2)))\n",
        "\n",
        "# model.add(Conv3D(256, 3, padding='same'))\n",
        "# model.add(Activation('relu'))\n",
        "# model.add(MaxPool3D((1,2,2)))\n",
        "\n",
        "# model.add(Conv3D(75, 3, padding='same'))\n",
        "# model.add(Activation('relu'))\n",
        "# model.add(MaxPool3D((1,2,2)))\n",
        "\n",
        "# model.add(TimeDistributed(Flatten()))\n",
        "\n",
        "# model.add(Bidirectional(LSTM(128, kernel_initializer='Orthogonal', return_sequences=True)))\n",
        "# model.add(Dropout(.5))\n",
        "\n",
        "# model.add(Bidirectional(LSTM(128, kernel_initializer='Orthogonal', return_sequences=True)))\n",
        "# model.add(Dropout(.5))\n",
        "\n",
        "# model.add(Dense(char_to_num.vocabulary_size()+1, kernel_initializer='he_normal', activation='softmax'))"
      ]
    },
    {
      "cell_type": "code",
      "execution_count": null,
      "metadata": {
        "id": "Wsy29dGM7by-"
      },
      "outputs": [],
      "source": [
        "# temp_output = model.layers[7].output  # Adjust the index based on your model's layer structure\n",
        "# print(\"Output shape after Flatten:\", temp_output.shape)"
      ]
    },
    {
      "cell_type": "code",
      "execution_count": null,
      "metadata": {
        "colab": {
          "base_uri": "https://localhost:8080/"
        },
        "id": "hpcVIrbN7fH-",
        "outputId": "2c656aac-8e21-4dae-93db-258585ce885d"
      },
      "outputs": [
        {
          "output_type": "stream",
          "name": "stdout",
          "text": [
            "(2, 75, 46, 140, 1)\n"
          ]
        }
      ],
      "source": [
        "print(val[0].shape)"
      ]
    },
    {
      "cell_type": "code",
      "execution_count": null,
      "metadata": {
        "colab": {
          "base_uri": "https://localhost:8080/"
        },
        "id": "g3B-eJ2W7hHM",
        "outputId": "491944fc-b0d2-492b-dc27-3c47bf1e2aac"
      },
      "outputs": [
        {
          "output_type": "stream",
          "name": "stdout",
          "text": [
            "\u001b[1m1/1\u001b[0m \u001b[32m━━━━━━━━━━━━━━━━━━━━\u001b[0m\u001b[37m\u001b[0m \u001b[1m4s\u001b[0m 4s/step\n"
          ]
        }
      ],
      "source": [
        "yhat = model.predict(val[0])"
      ]
    },
    {
      "cell_type": "code",
      "execution_count": null,
      "metadata": {
        "colab": {
          "base_uri": "https://localhost:8080/"
        },
        "id": "GKhKISYD7ixc",
        "outputId": "90927173-c4bd-497b-d196-3e8edbe7a2c6"
      },
      "outputs": [
        {
          "output_type": "execute_result",
          "data": {
            "text/plain": [
              "<tf.Tensor: shape=(), dtype=string, numpy=b'666666666666666666666666666666666666666dddddd6666666666dddd6666666666666666'>"
            ]
          },
          "metadata": {},
          "execution_count": 47
        }
      ],
      "source": [
        "tf.strings.reduce_join([num_to_char(x) for x in tf.argmax(yhat[0],axis=1)])"
      ]
    },
    {
      "cell_type": "code",
      "execution_count": null,
      "metadata": {
        "colab": {
          "base_uri": "https://localhost:8080/"
        },
        "id": "xywLUCPt7kOl",
        "outputId": "a009ed9d-0b2e-4725-f231-76fc248b132f"
      },
      "outputs": [
        {
          "output_type": "execute_result",
          "data": {
            "text/plain": [
              "<tf.Tensor: shape=(), dtype=string, numpy=b'666666666666666666666666666666666666666dddddd6666666666dddd6666666666666666'>"
            ]
          },
          "metadata": {},
          "execution_count": 48
        }
      ],
      "source": [
        "tf.strings.reduce_join([num_to_char(tf.argmax(x)) for x in yhat[0]])"
      ]
    },
    {
      "cell_type": "code",
      "execution_count": null,
      "metadata": {
        "colab": {
          "base_uri": "https://localhost:8080/"
        },
        "id": "aP1BkW7D7l2-",
        "outputId": "0a8a2914-6e52-4e43-ac23-a8ceacb9514a"
      },
      "outputs": [
        {
          "output_type": "execute_result",
          "data": {
            "text/plain": [
              "(None, 75, 46, 140, 1)"
            ]
          },
          "metadata": {},
          "execution_count": 49
        }
      ],
      "source": [
        "model.input_shape"
      ]
    },
    {
      "cell_type": "code",
      "execution_count": null,
      "metadata": {
        "colab": {
          "base_uri": "https://localhost:8080/"
        },
        "id": "iRghRPYI7nvV",
        "outputId": "f1ea887b-07e4-4dda-80d6-765b338fb994"
      },
      "outputs": [
        {
          "output_type": "execute_result",
          "data": {
            "text/plain": [
              "(None, 75, 41)"
            ]
          },
          "metadata": {},
          "execution_count": 50
        }
      ],
      "source": [
        "model.output_shape"
      ]
    },
    {
      "cell_type": "markdown",
      "metadata": {
        "id": "iPJQLBcT7sZw"
      },
      "source": [
        "Setup and training"
      ]
    },
    {
      "cell_type": "code",
      "execution_count": null,
      "metadata": {
        "id": "5G6n5ist_VG-"
      },
      "outputs": [],
      "source": [
        "# def scheduler(epoch, lr):\n",
        "#     if epoch < 30:\n",
        "#         return lr\n",
        "#     elif epoch < 60:\n",
        "#         return lr * 0.5  # Reduce by half after 30 epochs\n",
        "#     else:\n",
        "#         return lr * 0.25  # Further reduce by half after 60 epochs\n"
      ]
    },
    {
      "cell_type": "code",
      "execution_count": null,
      "metadata": {
        "id": "fawT7SWyhpVl"
      },
      "outputs": [],
      "source": [
        "def scheduler(epoch, lr):\n",
        "    if epoch < 60:\n",
        "        return lr * 1.25  # Increase by 25% before epoch 60\n",
        "    elif 60 <= epoch < 80:\n",
        "        return lr * 0.5  # Reduce to half between epochs 60-80\n",
        "    elif 80 <= epoch < 100:\n",
        "        return lr * 0.75  # Slow down the reduction after epoch 80\n",
        "    else:\n",
        "        return lr * 0.9  # Minimal reduction after epoch 100\n"
      ]
    },
    {
      "cell_type": "code",
      "execution_count": null,
      "metadata": {
        "id": "SnjrNbaITa2k"
      },
      "outputs": [],
      "source": [
        "# def scheduler(epoch, lr):\n",
        "#     if epoch < 60:\n",
        "#         return lr * 1.25  # Increase the current learning rate by 25% from 42 to 60 epochs\n",
        "#     else:\n",
        "#         return lr * 0.5  # Reduce by a quarter after 60 epochs\n"
      ]
    },
    {
      "cell_type": "code",
      "execution_count": null,
      "metadata": {
        "id": "x5EfnZj67vmF"
      },
      "outputs": [],
      "source": [
        "def CTCLoss(y_true, y_pred):\n",
        "    batch_len = tf.cast(tf.shape(y_true)[0], dtype=\"int64\")\n",
        "    input_length = tf.cast(tf.shape(y_pred)[1], dtype=\"int64\")\n",
        "    label_length = tf.cast(tf.shape(y_true)[1], dtype=\"int64\")\n",
        "\n",
        "    input_length = input_length * tf.ones(shape=(batch_len, 1), dtype=\"int64\")\n",
        "    label_length = label_length * tf.ones(shape=(batch_len, 1), dtype=\"int64\")\n",
        "\n",
        "    loss = tf.keras.backend.ctc_batch_cost(y_true, y_pred, input_length, label_length)\n",
        "    return loss"
      ]
    },
    {
      "cell_type": "code",
      "execution_count": null,
      "metadata": {
        "id": "q8unuOEACfEY"
      },
      "outputs": [],
      "source": [
        "# def CTCLoss(y_true, y_pred):\n",
        "#     batch_len = tf.shape(y_true)[0]\n",
        "#     input_length = tf.shape(y_pred)[1]  # max_time_steps\n",
        "#     label_length = tf.shape(y_true)[1]  # max_label_length\n",
        "\n",
        "#     # Create tensors with the same length for all samples in the batch\n",
        "#     input_length = input_length * tf.ones(shape=(batch_len,), dtype=tf.int32)\n",
        "#     label_length = label_length * tf.ones(shape=(batch_len,), dtype=tf.int32)\n",
        "\n",
        "#     # Debugging shapes\n",
        "#     print(\"y_true shape: \", tf.shape(y_true))\n",
        "#     print(\"y_pred shape: \", tf.shape(y_pred))\n",
        "#     print(\"input_length shape: \", tf.shape(input_length))\n",
        "#     print(\"label_length shape: \", tf.shape(label_length))\n",
        "\n",
        "#     # Compute CTC loss\n",
        "#     loss = tf.keras.backend.ctc_batch_cost(y_true, y_pred, input_length, label_length)\n",
        "\n",
        "#     return loss\n",
        "\n"
      ]
    },
    {
      "cell_type": "code",
      "execution_count": null,
      "metadata": {
        "id": "SswBBIzR7x4-"
      },
      "outputs": [],
      "source": [
        "class ProduceExample(tf.keras.callbacks.Callback):\n",
        "    def __init__(self, dataset) -> None:\n",
        "        self.dataset = dataset.as_numpy_iterator()\n",
        "\n",
        "    def on_epoch_end(self, epoch, logs=None) -> None:\n",
        "        data = self.dataset.next()\n",
        "        yhat = self.model.predict(data[0])\n",
        "        decoded = tf.keras.backend.ctc_decode(yhat, [75,75], greedy=False)[0][0].numpy()\n",
        "        for x in range(len(yhat)):\n",
        "            print('Original:', tf.strings.reduce_join(num_to_char(data[1][x])).numpy().decode('utf-8'))\n",
        "            print('Prediction:', tf.strings.reduce_join(num_to_char(decoded[x])).numpy().decode('utf-8'))\n",
        "            print('~'*100)"
      ]
    },
    {
      "cell_type": "code",
      "execution_count": null,
      "metadata": {
        "id": "N74N4rW37z-v"
      },
      "outputs": [],
      "source": [
        "# model.compile(optimizer=Adam(learning_rate=0.0001), loss=CTCLoss)"
      ]
    },
    {
      "cell_type": "code",
      "execution_count": null,
      "metadata": {
        "id": "EP5xM5-P71le"
      },
      "outputs": [],
      "source": [
        "# checkpoint_callback = ModelCheckpoint(os.path.join('models', 'checkpoint.weights.h5'), monitor='loss', save_weights_only=True)"
      ]
    },
    {
      "cell_type": "code",
      "execution_count": null,
      "metadata": {
        "id": "Cf_Ark5b73FG"
      },
      "outputs": [],
      "source": [
        "schedule_callback = LearningRateScheduler(scheduler)"
      ]
    },
    {
      "cell_type": "code",
      "execution_count": null,
      "metadata": {
        "id": "BzygePm975ow"
      },
      "outputs": [],
      "source": [
        "example_callback = ProduceExample(test)"
      ]
    },
    {
      "cell_type": "code",
      "execution_count": null,
      "metadata": {
        "id": "yaJgW63w77_-"
      },
      "outputs": [],
      "source": [
        "# from tensorflow.keras.callbacks import ModelCheckpoint\n",
        "\n",
        "# # Create a checkpoint callback to save the model weights every epoch\n",
        "# checkpoint_callback = ModelCheckpoint(filepath='model_checkpoint(3).weights.h5',\n",
        "#                                       save_weights_only=True,\n",
        "#                                       save_freq='epoch',  # Save every epoch\n",
        "#                                       verbose=1)"
      ]
    },
    {
      "cell_type": "code",
      "execution_count": null,
      "metadata": {
        "id": "7NPhfzOk78j2"
      },
      "outputs": [],
      "source": [
        "# class CustomCheckpointCallback(tf.keras.callbacks.Callback):\n",
        "#     def __init__(self, filepath, save_freq):\n",
        "#         super(CustomCheckpointCallback, self).__init__()\n",
        "#         self.filepath = filepath\n",
        "#         self.save_freq = save_freq\n",
        "\n",
        "#     def on_epoch_end(self, epoch, logs=None):\n",
        "#         # Check if we are at the right epoch to save the model\n",
        "#         if (epoch + 1) % self.save_freq == 0:\n",
        "#             self.model.save_weights(self.filepath)\n",
        "#             print(f\"Checkpoint saved at epoch {epoch + 1}\")\n",
        "\n",
        "# # Instantiate the custom callback\n",
        "# custom_checkpoint_callback = CustomCheckpointCallback(filepath='model_checkpoint(3).weights.h5', save_freq=2)"
      ]
    },
    {
      "cell_type": "code",
      "execution_count": null,
      "metadata": {
        "id": "XZf2PqQNvlel"
      },
      "outputs": [],
      "source": [
        "\n",
        "\n",
        "class CustomCheckpointCallback(tf.keras.callbacks.Callback):\n",
        "    def __init__(self, filepath_template, save_freq):\n",
        "        super(CustomCheckpointCallback, self).__init__()\n",
        "        self.filepath_template = filepath_template  # Template for file paths, e.g. 'model_epoch-{epoch}.h5'\n",
        "        self.save_freq = save_freq\n",
        "        self.best_val_loss = float('inf')  # Initialize to a very large value\n",
        "        self.best_epoch = None  # To keep track of the best epoch\n",
        "\n",
        "    def on_epoch_end(self, epoch, logs=None):\n",
        "        # Check if we are at the right epoch to save the model\n",
        "        if (epoch + 1) % self.save_freq == 0:\n",
        "            filepath = self.filepath_template.format(epoch=epoch + 1)\n",
        "            self.model.save_weights(filepath)\n",
        "            print(f\"Checkpoint saved at epoch {epoch + 1}: {filepath}\")\n",
        "\n",
        "        # Track the best validation loss and the corresponding epoch\n",
        "        current_val_loss = logs.get('val_loss')\n",
        "        if current_val_loss is not None and current_val_loss < self.best_val_loss:\n",
        "            self.best_val_loss = current_val_loss\n",
        "            self.best_epoch = epoch + 1  # +1 because epoch count starts at 0\n",
        "\n",
        "    def on_train_end(self, logs=None):\n",
        "        if self.best_epoch is not None:\n",
        "            print(f\"\\nBest validation loss of {self.best_val_loss:.4f} occurred at epoch {self.best_epoch}\")\n",
        "\n",
        "# Instantiate the custom callback\n",
        "custom_checkpoint_callback = CustomCheckpointCallback(\n",
        "    filepath_template='model_new_epoch-{epoch}.weights.h5',\n",
        "    save_freq=1  # Save after every epoch\n",
        ")\n"
      ]
    },
    {
      "cell_type": "code",
      "execution_count": null,
      "metadata": {
        "id": "j8O9fWeIkHcQ"
      },
      "outputs": [],
      "source": [
        "# import numpy as np\n",
        "\n",
        "# # Levenshtein distance function (edit distance between two sequences)\n",
        "# def levenshtein_distance(seq1, seq2):\n",
        "#     dp = np.zeros((len(seq1) + 1, len(seq2) + 1), dtype=int)\n",
        "\n",
        "#     for i in range(1, len(seq1) + 1):\n",
        "#         dp[i][0] = i\n",
        "#     for j in range(1, len(seq2) + 1):\n",
        "#         dp[0][j] = j\n",
        "\n",
        "#     for i in range(1, len(seq1) + 1):\n",
        "#         for j in range(1, len(seq2) + 1):\n",
        "#             if seq1[i - 1] == seq2[j - 1]:\n",
        "#                 dp[i][j] = dp[i - 1][j - 1]\n",
        "#             else:\n",
        "#                 dp[i][j] = 1 + min(dp[i - 1][j], dp[i][j - 1], dp[i - 1][j - 1])\n",
        "\n",
        "#     return dp[-1][-1]\n"
      ]
    },
    {
      "cell_type": "code",
      "execution_count": null,
      "metadata": {
        "id": "rQcV02_aUBCe"
      },
      "outputs": [],
      "source": [
        "# import tensorflow as tf\n",
        "\n",
        "# class CTCCustomAccuracyCallback(tf.keras.callbacks.Callback):\n",
        "#     def __init__(self, validation_data):\n",
        "#         self.validation_data = validation_data\n",
        "\n",
        "#     def on_epoch_end(self, epoch, logs=None):\n",
        "#         total_cer = 0\n",
        "#         total_wer = 0\n",
        "#         num_sequences = 0\n",
        "\n",
        "#         for batch in self.validation_data:\n",
        "#             x, y_true = batch  # Extract input and labels\n",
        "#             y_pred = self.model.predict(x)  # Get model's prediction\n",
        "\n",
        "#             # Decode the CTC predictions\n",
        "#             decoded_pred, _ = tf.keras.backend.ctc_decode(\n",
        "#                 y_pred,\n",
        "#                 input_length=tf.fill([y_pred.shape[0]], y_pred.shape[1])\n",
        "#             )\n",
        "#             decoded_pred = tf.keras.backend.get_value(decoded_pred[0])\n",
        "\n",
        "#             # Convert true sequences to a list format\n",
        "#             y_true = tf.keras.backend.get_value(y_true)\n",
        "\n",
        "#             # Calculate CER and WER for this batch\n",
        "#             cer_batch, wer_batch = self.calculate_error_rates(decoded_pred, y_true)\n",
        "#             total_cer += cer_batch\n",
        "#             total_wer += wer_batch\n",
        "#             num_sequences += len(y_true)\n",
        "\n",
        "#         # Compute average CER and WER for this epoch\n",
        "#         avg_cer = total_cer / num_sequences\n",
        "#         avg_wer = total_wer / num_sequences\n",
        "\n",
        "#         print(f'Epoch {epoch + 1} - CER: {avg_cer * 100:.2f}%, WER: {avg_wer * 100:.2f}%')\n",
        "\n",
        "#     def calculate_error_rates(self, decoded_pred, true_sequences):\n",
        "#         total_cer = 0\n",
        "#         total_wer = 0\n",
        "\n",
        "#         for pred, true_seq in zip(decoded_pred, true_sequences):\n",
        "#             # Convert the predictions and true sequences to a list of characters/words\n",
        "#             pred_str = ''.join(map(str, pred)).strip()  # Strip padding or blank characters\n",
        "#             true_str = ''.join(map(str, true_seq)).strip()\n",
        "\n",
        "#             # CER (Character Error Rate)\n",
        "#             cer = levenshtein_distance(pred_str, true_str) / max(len(true_str), 1)\n",
        "#             total_cer += cer\n",
        "\n",
        "#             # WER (Word Error Rate)\n",
        "#             pred_words = pred_str.split()\n",
        "#             true_words = true_str.split()\n",
        "#             wer = levenshtein_distance(pred_words, true_words) / max(len(true_words), 1)\n",
        "#             total_wer += wer\n",
        "\n",
        "#         return total_cer, total_wer\n"
      ]
    },
    {
      "cell_type": "code",
      "execution_count": null,
      "metadata": {
        "id": "iVP--Va37-R8"
      },
      "outputs": [],
      "source": [
        "# from tensorflow.keras.models import Sequential\n",
        "# from tensorflow.keras.layers import Conv3D, LSTM, Dense, Dropout, Bidirectional, MaxPool3D, Activation, Reshape, SpatialDropout3D, BatchNormalization, TimeDistributed, Flatten\n",
        "# from tensorflow.keras.optimizers import Adam\n",
        "# import tensorflow as tf\n",
        "\n",
        "# # Define the model architecture\n",
        "# model = Sequential()\n",
        "\n",
        "# # Convolutional layers\n",
        "# model.add(Conv3D(128, 3, input_shape=(75, 46, 140, 1), padding='same'))\n",
        "# model.add(Activation('relu'))\n",
        "# model.add(MaxPool3D((1, 2, 2)))\n",
        "\n",
        "# model.add(Conv3D(256, 3, padding='same'))\n",
        "# model.add(Activation('relu'))\n",
        "# model.add(MaxPool3D((1, 2, 2)))\n",
        "\n",
        "# model.add(Conv3D(75, 3, padding='same'))\n",
        "# model.add(Activation('relu'))\n",
        "# model.add(MaxPool3D((1, 2, 2)))\n",
        "\n",
        "# # Flatten and reshape\n",
        "# model.add(TimeDistributed(Flatten()))  # Output shape will be (None, 75, 11*35*75)\n",
        "# model.add(Reshape((75, 6375)))\n",
        "\n",
        "# # LSTM layers\n",
        "# model.add(Bidirectional(LSTM(64, kernel_initializer='Orthogonal', return_sequences=True)))\n",
        "# model.add(Dropout(0.5))\n",
        "\n",
        "# model.add(Bidirectional(LSTM(64, kernel_initializer='Orthogonal', return_sequences=True)))\n",
        "# model.add(Dropout(0.5))\n",
        "\n",
        "# # Output layer\n",
        "# model.add(Dense(char_to_num.vocabulary_size() + 1, kernel_initializer='he_normal', activation='softmax'))\n",
        "\n",
        "# # Optionally print the model summary\n",
        "# model.summary()\n",
        "\n",
        "# Define early stopping callback with mode and patience\n",
        "early_stopping = EarlyStopping(\n",
        "    monitor='val_loss',\n",
        "    patience=5,               # Stop if no improvement for 5 epochs\n",
        "    restore_best_weights=True, # Restore weights from best epoch\n",
        "    mode='min',                # We want to minimize validation loss\n",
        "    verbose=1                  # Print a message when stopping\n",
        ")\n",
        "\n",
        "# #Load the saved weights from the last checkpoint\n",
        "model.load_weights('model_new_epoch-70.weights.h5')\n",
        "\n",
        "# Compile the model\n",
        "model.compile(optimizer=Adam(learning_rate=0.0001), loss=CTCLoss)\n",
        "\n",
        "# # Add the custom accuracy callback to the list\n",
        "# #accuracy_callback = CTCCustomAccuracyCallback(validation_data=test)\n",
        "\n",
        "# # Continue training from the 44th epoch onward\n",
        "# model.fit(train,\n",
        "#           validation_data=test,\n",
        "#           epochs=130,\n",
        "#           initial_epoch=71,  # Start from the 8th epoch\n",
        "#           callbacks=[custom_checkpoint_callback, early_stopping, example_callback, schedule_callback])"
      ]
    },
    {
      "cell_type": "code",
      "execution_count": null,
      "metadata": {
        "id": "NW2Ymf9m8CL8"
      },
      "outputs": [],
      "source": [
        "# Load the model from the last checkpoint\n",
        "#model.load_weights('model_checkpoint.h5')\n",
        "\n",
        "# Continue training from the last saved epoch"
      ]
    },
    {
      "cell_type": "code",
      "execution_count": null,
      "metadata": {
        "id": "bBKxR5sg8Eyc"
      },
      "outputs": [],
      "source": [
        "#model.fit(train, validation_data=test, epochs=15, callbacks=[checkpoint_callback, schedule_callback, example_callback])"
      ]
    },
    {
      "cell_type": "code",
      "execution_count": null,
      "metadata": {
        "id": "_4xuoDxM8GkT"
      },
      "outputs": [],
      "source": [
        "# # Iterate over a small test dataset to speed up testing\n",
        "# small_test = test.take(1)  # Reduce the test data size for debugging\n",
        "# test_data = small_test.as_numpy_iterator()"
      ]
    },
    {
      "cell_type": "code",
      "execution_count": null,
      "metadata": {
        "id": "04zBnIUhWMW0"
      },
      "outputs": [],
      "source": [
        "# # Get next sample\n",
        "# sample_v = test_data.next()"
      ]
    },
    {
      "cell_type": "code",
      "execution_count": null,
      "metadata": {
        "id": "9gDVbbCQWS6b"
      },
      "outputs": [],
      "source": [
        "# # Make predictions\n",
        "# yhat = model.predict(sample_v[0], verbose=1)"
      ]
    },
    {
      "cell_type": "code",
      "execution_count": null,
      "metadata": {
        "id": "NN4BO9BtWYAo"
      },
      "outputs": [],
      "source": [
        "# # Real Text\n",
        "# print('~'*100, 'REAL TEXT')\n",
        "# real_texts = [tf.strings.reduce_join([num_to_char(word) for word in sentence]) for sentence in sample_v[1]]\n",
        "# for text in real_texts:\n",
        "#     print(text.numpy().decode('utf-8'))"
      ]
    },
    {
      "cell_type": "code",
      "execution_count": null,
      "metadata": {
        "id": "vD1Z6NvZWaQp"
      },
      "outputs": [],
      "source": [
        "# # Decode predictions\n",
        "# decoded = tf.keras.backend.ctc_decode(yhat, input_length=[75, 75], greedy=True)[0][0].numpy()"
      ]
    },
    {
      "cell_type": "code",
      "execution_count": null,
      "metadata": {
        "id": "dN4UGRGyWcqw"
      },
      "outputs": [],
      "source": [
        "# # Predicted Text\n",
        "# print('~'*100, 'PREDICTIONS')\n",
        "# pred_texts = [tf.strings.reduce_join([num_to_char(word) for word in sentence]) for sentence in decoded]\n",
        "# for text in pred_texts:\n",
        "#     print(text.numpy().decode('utf-8'))"
      ]
    },
    {
      "cell_type": "code",
      "execution_count": null,
      "metadata": {
        "id": "y9OnruLVUm2d",
        "colab": {
          "base_uri": "https://localhost:8080/"
        },
        "outputId": "eb755c63-b06f-414f-d212-1d105ae8ad34"
      },
      "outputs": [
        {
          "output_type": "stream",
          "name": "stdout",
          "text": [
            "\u001b[1m1/1\u001b[0m \u001b[32m━━━━━━━━━━━━━━━━━━━━\u001b[0m\u001b[37m\u001b[0m \u001b[1m1s\u001b[0m 1s/step\n",
            "~~~~~~~~~~~~~~~~~~~~~~~~~~~~~~~~~~~~~~~~~~~~~~~~~~~~~~~~~~~~~~~~~~~~~~~~~~~~~~~~~~~~~~~~~~~~~~~~~~~~ REAL TEXT\n",
            "lay blue with v eight soon\n",
            "bin blue at y two please\n",
            "~~~~~~~~~~~~~~~~~~~~~~~~~~~~~~~~~~~~~~~~~~~~~~~~~~~~~~~~~~~~~~~~~~~~~~~~~~~~~~~~~~~~~~~~~~~~~~~~~~~~ PREDICTIONS\n",
            "lay blue with v eight soon\n",
            "bin blue at two please\n",
            "REAL: lay blue with v eight soon\n",
            "PRED: lay blue with v eight soon\n",
            "CER: 0.0000, WER: 0.0000\n",
            "~~~~~~~~~~~~~~~~~~~~~~~~~~~~~~~~~~~~~~~~~~~~~~~~~~~~~~~~~~~~~~~~~~~~~~~~~~~~~~~~~~~~~~~~~~~~~~~~~~~~\n",
            "REAL: bin blue at y two please\n",
            "PRED: bin blue at two please\n",
            "CER: 0.0526, WER: 0.1667\n",
            "~~~~~~~~~~~~~~~~~~~~~~~~~~~~~~~~~~~~~~~~~~~~~~~~~~~~~~~~~~~~~~~~~~~~~~~~~~~~~~~~~~~~~~~~~~~~~~~~~~~~\n",
            "Average CER: 0.0263\n",
            "Average WER: 0.0833\n"
          ]
        }
      ],
      "source": [
        "import numpy as np\n",
        "import tensorflow as tf\n",
        "from jiwer import wer  # Install jiwer library for WER calculation\n",
        "import editdistance  # Install editdistance library for CER calculation\n",
        "\n",
        "# Function to calculate Character Error Rate (CER)\n",
        "def calculate_cer(pred, truth):\n",
        "    pred = pred.replace(' ', '')  # Remove spaces for character-level comparison\n",
        "    truth = truth.replace(' ', '')\n",
        "    return editdistance.eval(pred, truth) / len(truth)\n",
        "\n",
        "# Function to calculate Word Error Rate (WER)\n",
        "def calculate_wer(pred, truth):\n",
        "    return wer(truth, pred)\n",
        "\n",
        "# Iterate over a small test dataset to speed up testing\n",
        "small_test = test.take(1)  # Reduce the test data size for debugging\n",
        "test_data = small_test.as_numpy_iterator()\n",
        "\n",
        "# Get next sample\n",
        "sample_v = test_data.next()\n",
        "\n",
        "# Make predictions\n",
        "yhat = model.predict(sample_v[0], verbose=1)\n",
        "\n",
        "# Real Text (Ground Truth)\n",
        "print('~'*100, 'REAL TEXT')\n",
        "real_texts = [tf.strings.reduce_join([num_to_char(word) for word in sentence]) for sentence in sample_v[1]]\n",
        "real_texts = [text.numpy().decode('utf-8') for text in real_texts]\n",
        "for text in real_texts:\n",
        "    print(text)\n",
        "\n",
        "# Decode predictions\n",
        "decoded = tf.keras.backend.ctc_decode(yhat, input_length=[75, 75], greedy=True)[0][0].numpy()\n",
        "\n",
        "# Predicted Text\n",
        "print('~'*100, 'PREDICTIONS')\n",
        "pred_texts = [tf.strings.reduce_join([num_to_char(word) for word in sentence]) for sentence in decoded]\n",
        "pred_texts = [text.numpy().decode('utf-8') for text in pred_texts]\n",
        "for text in pred_texts:\n",
        "    print(text)\n",
        "\n",
        "# Calculate and print CER and WER\n",
        "total_cer = 0\n",
        "total_wer = 0\n",
        "\n",
        "for real_text, pred_text in zip(real_texts, pred_texts):\n",
        "    cer = calculate_cer(pred_text, real_text)\n",
        "    wer_value = calculate_wer(pred_text, real_text)\n",
        "\n",
        "    print(f\"REAL: {real_text}\")\n",
        "    print(f\"PRED: {pred_text}\")\n",
        "    print(f\"CER: {cer:.4f}, WER: {wer_value:.4f}\")\n",
        "    print('~' * 100)\n",
        "\n",
        "    total_cer += cer\n",
        "    total_wer += wer_value\n",
        "\n",
        "# Averaging CER and WER over all sentences\n",
        "avg_cer = total_cer / len(real_texts)\n",
        "avg_wer = total_wer / len(real_texts)\n",
        "\n",
        "print(f\"Average CER: {avg_cer:.4f}\")\n",
        "print(f\"Average WER: {avg_wer:.4f}\")\n"
      ]
    },
    {
      "cell_type": "code",
      "execution_count": null,
      "metadata": {
        "id": "dzd2k4daWfDO"
      },
      "outputs": [],
      "source": [
        "# Testing with another sample (from file)\n",
        "sample_v = load_data(tf.convert_to_tensor('./data/s1/bbao8p.mpg'))"
      ]
    },
    {
      "cell_type": "code",
      "execution_count": null,
      "metadata": {
        "id": "OT3tcm-VWpVi",
        "colab": {
          "base_uri": "https://localhost:8080/"
        },
        "outputId": "5187291e-97de-4bf2-920f-e7f60a5bde89"
      },
      "outputs": [
        {
          "output_type": "stream",
          "name": "stdout",
          "text": [
            "~~~~~~~~~~~~~~~~~~~~~~~~~~~~~~~~~~~~~~~~~~~~~~~~~~~~~~~~~~~~~~~~~~~~~~~~~~~~~~~~~~~~~~~~~~~~~~~~~~~~ REAL TEXT\n",
            "bin blue at o eight please\n"
          ]
        }
      ],
      "source": [
        "# Real text of this sample\n",
        "print('~'*100, 'REAL TEXT')\n",
        "real_sample_text = [tf.strings.reduce_join([num_to_char(word) for word in sentence]) for sentence in [sample_v[1]]]\n",
        "for text in real_sample_text:\n",
        "    print(text.numpy().decode('utf-8'))"
      ]
    },
    {
      "cell_type": "code",
      "execution_count": null,
      "metadata": {
        "id": "gbguG6B6Wp4L",
        "colab": {
          "base_uri": "https://localhost:8080/"
        },
        "outputId": "810e625b-6fdf-4183-bf84-ea1f7a26a02a"
      },
      "outputs": [
        {
          "output_type": "stream",
          "name": "stdout",
          "text": [
            "\u001b[1m1/1\u001b[0m \u001b[32m━━━━━━━━━━━━━━━━━━━━\u001b[0m\u001b[37m\u001b[0m \u001b[1m2s\u001b[0m 2s/step\n"
          ]
        }
      ],
      "source": [
        "# Predict for the new sample\n",
        "yhat = model.predict(tf.expand_dims(sample_v[0], axis=0), verbose=1)"
      ]
    },
    {
      "cell_type": "code",
      "execution_count": null,
      "metadata": {
        "id": "E4Op7nx7Wv8_"
      },
      "outputs": [],
      "source": [
        "# Decode predictions\n",
        "decoded_sample = tf.keras.backend.ctc_decode(yhat, input_length=[75], greedy=True)[0][0].numpy()\n"
      ]
    },
    {
      "cell_type": "code",
      "execution_count": null,
      "metadata": {
        "id": "0JWhHmwaWydu",
        "colab": {
          "base_uri": "https://localhost:8080/"
        },
        "outputId": "3f20fc88-1cb4-4529-da0a-21011645cf7c"
      },
      "outputs": [
        {
          "output_type": "stream",
          "name": "stdout",
          "text": [
            "~~~~~~~~~~~~~~~~~~~~~~~~~~~~~~~~~~~~~~~~~~~~~~~~~~~~~~~~~~~~~~~~~~~~~~~~~~~~~~~~~~~~~~~~~~~~~~~~~~~~ PREDICTIONS\n",
            "bin blue ait ih please\n"
          ]
        }
      ],
      "source": [
        "# Predicted text of this sample\n",
        "print('~'*100, 'PREDICTIONS')\n",
        "pred_sample_text = [tf.strings.reduce_join([num_to_char(word) for word in sentence]) for sentence in decoded_sample]\n",
        "for text in pred_sample_text:\n",
        "    print(text.numpy().decode('utf-8'))"
      ]
    }
  ],
  "metadata": {
    "accelerator": "GPU",
    "colab": {
      "gpuType": "T4",
      "provenance": [],
      "include_colab_link": true
    },
    "kernelspec": {
      "display_name": "Python 3",
      "name": "python3"
    },
    "language_info": {
      "name": "python"
    }
  },
  "nbformat": 4,
  "nbformat_minor": 0
}